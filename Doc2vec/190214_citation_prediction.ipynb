{
 "cells": [
  {
   "cell_type": "code",
   "execution_count": 7,
   "metadata": {},
   "outputs": [],
   "source": [
    "import numpy\n",
    "import pickle as pk\n",
    "import os\n",
    "import pandas as pd\n",
    "import numpy as np\n",
    "from sklearn.decomposition import PCA\n",
    "from sklearn.manifold import TSNE\n",
    "from scipy.spatial.distance import cosine\n",
    "from gensim.models.doc2vec import Doc2Vec, TaggedDocument"
   ]
  },
  {
   "cell_type": "code",
   "execution_count": 8,
   "metadata": {},
   "outputs": [],
   "source": [
    "os.chdir('/home/jcai/geometry_of_law/data_and_dictionary')"
   ]
  },
  {
   "cell_type": "code",
   "execution_count": 9,
   "metadata": {},
   "outputs": [],
   "source": [
    "citation_data = pd.read_stata('/home/jcai/geometry_of_law/data_and_dictionary/caseid_citecounts.dta')"
   ]
  },
  {
   "cell_type": "code",
   "execution_count": 10,
   "metadata": {},
   "outputs": [],
   "source": [
    "citation_data = citation_data.dropna()"
   ]
  },
  {
   "cell_type": "code",
   "execution_count": 11,
   "metadata": {},
   "outputs": [],
   "source": [
    "citation_data[\"logcounts\"] = [np.log(1+citation_data[\"within\"][i]+citation_data[\"outside\"][i]) for i in citation_data.index]"
   ]
  },
  {
   "cell_type": "markdown",
   "metadata": {},
   "source": [
    "# build a data frame of caseid-citecount-docvector"
   ]
  },
  {
   "cell_type": "code",
   "execution_count": 12,
   "metadata": {},
   "outputs": [],
   "source": [
    "model = Doc2Vec.load('/home/jcai/geometry_of_law/doc2vec_v50k_d200_shuffled_opinion/ALL_opinion.d2v')\n",
    "set_of_doc_names = set(model.docvecs.doctags)"
   ]
  },
  {
   "cell_type": "code",
   "execution_count": 13,
   "metadata": {},
   "outputs": [],
   "source": [
    "master_dataframe = pd.read_csv(\"/home/jcai/geometry_of_law/Encyclopedia Entry/master_dataframe.csv\")"
   ]
  },
  {
   "cell_type": "code",
   "execution_count": 14,
   "metadata": {},
   "outputs": [],
   "source": [
    "master_dataframe[\"caseid\"] = [x.split(\"_\")[0] for x in master_dataframe.copy()['docname']]"
   ]
  },
  {
   "cell_type": "code",
   "execution_count": 15,
   "metadata": {},
   "outputs": [
    {
     "data": {
      "text/plain": [
       "(292765, 16)"
      ]
     },
     "execution_count": 15,
     "metadata": {},
     "output_type": "execute_result"
    }
   ],
   "source": [
    "master_dataframe.shape"
   ]
  },
  {
   "cell_type": "code",
   "execution_count": 16,
   "metadata": {},
   "outputs": [],
   "source": [
    "master_dataframe = master_dataframe[master_dataframe['docname'].isin(set_of_doc_names)]"
   ]
  },
  {
   "cell_type": "code",
   "execution_count": 17,
   "metadata": {},
   "outputs": [],
   "source": [
    "citation_data = citation_data[citation_data[\"caseid\"].isin(set(master_dataframe['caseid'].values))]"
   ]
  },
  {
   "cell_type": "code",
   "execution_count": 18,
   "metadata": {},
   "outputs": [],
   "source": [
    "gb_caseid = master_dataframe.groupby(\"caseid\")"
   ]
  },
  {
   "cell_type": "code",
   "execution_count": 19,
   "metadata": {},
   "outputs": [],
   "source": [
    "def return_mean_d2v(caseid):\n",
    "    doc_names = gb_caseid.get_group(caseid)[\"docname\"].values\n",
    "    return np.mean([model[i] for i in doc_names],axis=0)"
   ]
  },
  {
   "cell_type": "code",
   "execution_count": 20,
   "metadata": {},
   "outputs": [],
   "source": [
    "CBY_average_dict = pk.load(open(\"CBY_average_dict.p\",\"rb\"))"
   ]
  },
  {
   "cell_type": "code",
   "execution_count": 21,
   "metadata": {},
   "outputs": [],
   "source": [
    "CY_average_dict = pk.load(open(\"CY_average_dict.p\",\"rb\"))"
   ]
  },
  {
   "cell_type": "code",
   "execution_count": 22,
   "metadata": {},
   "outputs": [],
   "source": [
    "def return_demean_mean_d2v(caseid):\n",
    "    doc_names = gb_caseid.get_group(caseid)[\"docname\"].values\n",
    "    cy = gb_caseid.get_group(caseid)[\"circuit-year\"].values\n",
    "    v_list = [model[doc_names[i]] - CY_average_dict[cy[i]] for i in range(len(doc_names))]\n",
    "    return np.mean(v_list,axis=0)"
   ]
  },
  {
   "cell_type": "code",
   "execution_count": 23,
   "metadata": {},
   "outputs": [],
   "source": [
    "citation_data['d2v'] = [return_mean_d2v(citation_data['caseid'][i]) for i in citation_data.index]"
   ]
  },
  {
   "cell_type": "code",
   "execution_count": 24,
   "metadata": {},
   "outputs": [],
   "source": [
    "citation_data['d2v_dm'] = [return_demean_mean_d2v(citation_data['caseid'][i]) for i in citation_data.index]"
   ]
  },
  {
   "cell_type": "code",
   "execution_count": 25,
   "metadata": {},
   "outputs": [],
   "source": [
    "citation_data = citation_data.dropna()"
   ]
  },
  {
   "cell_type": "markdown",
   "metadata": {},
   "source": [
    "# build features"
   ]
  },
  {
   "cell_type": "code",
   "execution_count": 26,
   "metadata": {},
   "outputs": [],
   "source": [
    "from sklearn.feature_extraction import DictVectorizer\n",
    "from sklearn.model_selection import train_test_split\n",
    "from sklearn.feature_extraction.text import TfidfTransformer"
   ]
  },
  {
   "cell_type": "code",
   "execution_count": 27,
   "metadata": {},
   "outputs": [],
   "source": [
    "d2v_X = np.asarray(list(citation_data[\"d2v\"]))"
   ]
  },
  {
   "cell_type": "code",
   "execution_count": 28,
   "metadata": {},
   "outputs": [],
   "source": [
    "y = citation_data[\"logcounts\"]"
   ]
  },
  {
   "cell_type": "markdown",
   "metadata": {},
   "source": [
    "## Train-test split"
   ]
  },
  {
   "cell_type": "code",
   "execution_count": 29,
   "metadata": {},
   "outputs": [],
   "source": [
    "d2v_X_train, d2v_X_test, y_train, y_test = train_test_split(d2v_X, y, test_size=0.2)"
   ]
  },
  {
   "cell_type": "markdown",
   "metadata": {},
   "source": [
    "## some linear models"
   ]
  },
  {
   "cell_type": "markdown",
   "metadata": {},
   "source": [
    "## Linear Regression"
   ]
  },
  {
   "cell_type": "code",
   "execution_count": 30,
   "metadata": {},
   "outputs": [],
   "source": [
    "from sklearn.metrics import explained_variance_score"
   ]
  },
  {
   "cell_type": "code",
   "execution_count": 31,
   "metadata": {},
   "outputs": [],
   "source": [
    "from sklearn.linear_model import LinearRegression"
   ]
  },
  {
   "cell_type": "code",
   "execution_count": 32,
   "metadata": {},
   "outputs": [],
   "source": [
    "LR = LinearRegression(fit_intercept=False, normalize=False)"
   ]
  },
  {
   "cell_type": "code",
   "execution_count": 33,
   "metadata": {},
   "outputs": [
    {
     "name": "stdout",
     "output_type": "stream",
     "text": [
      "The training R2 is 0.23164420965147914\n",
      "The test R2 is 0.2298021251381763\n",
      "The explained variance is 0.22986817989712038\n"
     ]
    }
   ],
   "source": [
    "LR_reg = LR.fit(d2v_X_train, y_train)\n",
    "print('The training R2 is', LR_reg.score(d2v_X_train, y_train))\n",
    "print('The test R2 is', LR_reg.score(d2v_X_test, y_test))\n",
    "print('The explained variance is', explained_variance_score(y_test, LR_reg.predict(d2v_X_test)))"
   ]
  },
  {
   "cell_type": "markdown",
   "metadata": {},
   "source": [
    "## Elasticnet with CV"
   ]
  },
  {
   "cell_type": "code",
   "execution_count": 34,
   "metadata": {},
   "outputs": [],
   "source": [
    "from sklearn.linear_model import ElasticNetCV"
   ]
  },
  {
   "cell_type": "code",
   "execution_count": 35,
   "metadata": {},
   "outputs": [],
   "source": [
    "elastic = ElasticNetCV(random_state=0,l1_ratio=[.01, .5, .7, .95, .99],fit_intercept=True)"
   ]
  },
  {
   "cell_type": "code",
   "execution_count": 36,
   "metadata": {},
   "outputs": [
    {
     "name": "stdout",
     "output_type": "stream",
     "text": [
      "The training R2 is 0.240614041470539\n",
      "The test R2 is 0.23924789670195312\n",
      "The explained variance is 0.23924870298989764\n"
     ]
    }
   ],
   "source": [
    "elastic_reg = elastic.fit(d2v_X_train, y_train)\n",
    "print('The training R2 is', elastic_reg.score(d2v_X_train, y_train))\n",
    "print('The test R2 is', elastic_reg.score(d2v_X_test, y_test))\n",
    "print('The explained variance is', explained_variance_score(y_test, elastic_reg.predict(d2v_X_test)))"
   ]
  },
  {
   "cell_type": "code",
   "execution_count": 37,
   "metadata": {},
   "outputs": [
    {
     "name": "stdout",
     "output_type": "stream",
     "text": [
      "The L1 panelty is 0.99\n"
     ]
    }
   ],
   "source": [
    "print('The L1 panelty is', elastic_reg.l1_ratio_)"
   ]
  },
  {
   "cell_type": "markdown",
   "metadata": {},
   "source": [
    "## Lasso"
   ]
  },
  {
   "cell_type": "code",
   "execution_count": 38,
   "metadata": {},
   "outputs": [],
   "source": [
    "from sklearn.linear_model import Lasso"
   ]
  },
  {
   "cell_type": "code",
   "execution_count": 39,
   "metadata": {},
   "outputs": [],
   "source": [
    "lasso = Lasso(alpha=1.0,fit_intercept=True)"
   ]
  },
  {
   "cell_type": "code",
   "execution_count": 40,
   "metadata": {},
   "outputs": [
    {
     "name": "stdout",
     "output_type": "stream",
     "text": [
      "The training R2 is -1.509903313490213e-14\n",
      "The test R2 is -9.076688736175953e-06\n",
      "The explained variance is 0.0\n"
     ]
    }
   ],
   "source": [
    "lasso_reg = lasso.fit(d2v_X_train, y_train)\n",
    "print('The training R2 is', lasso.score(d2v_X_train, y_train))\n",
    "print('The test R2 is', lasso.score(d2v_X_test, y_test))\n",
    "print('The explained variance is', explained_variance_score(y_test, lasso.predict(d2v_X_test)))"
   ]
  },
  {
   "cell_type": "code",
   "execution_count": 41,
   "metadata": {},
   "outputs": [],
   "source": [
    "from math import exp"
   ]
  },
  {
   "cell_type": "code",
   "execution_count": 42,
   "metadata": {},
   "outputs": [
    {
     "name": "stdout",
     "output_type": "stream",
     "text": [
      " \n",
      "The alpha is  4.5399929762484854e-05\n",
      "The training R2 is 0.24063442330438345\n",
      "The test R2 is 0.23925448982612618\n",
      "The explained variance is 0.23925531397789201\n",
      " \n",
      "The alpha is  0.00012340980408667956\n",
      "The training R2 is 0.24062513476669037\n",
      "The test R2 is 0.23925343558808165\n",
      "The explained variance is 0.2392542491427474\n",
      " \n",
      "The alpha is  0.00033546262790251185\n",
      "The training R2 is 0.24055721090460214\n",
      "The test R2 is 0.23920851222500938\n",
      "The explained variance is 0.239209300214693\n",
      " \n",
      "The alpha is  0.0009118819655545162\n",
      "The training R2 is 0.24016851556985533\n",
      "The test R2 is 0.2388980054532599\n",
      "The explained variance is 0.23889870625530463\n",
      " \n",
      "The alpha is  0.0024787521766663585\n",
      "The training R2 is 0.23828832277527212\n",
      "The test R2 is 0.23715009818678245\n",
      "The explained variance is 0.23715070235497382\n",
      " \n",
      "The alpha is  0.006737946999085467\n",
      "The training R2 is 0.2297239586542532\n",
      "The test R2 is 0.22888608581792302\n",
      "The explained variance is 0.22888674744533877\n",
      " \n",
      "The alpha is  0.01831563888873418\n",
      "The training R2 is 0.19818681755866607\n",
      "The test R2 is 0.1974347311784509\n",
      "The explained variance is 0.19743513144327152\n",
      " \n",
      "The alpha is  0.049787068367863944\n",
      "The training R2 is 0.13267489889113682\n",
      "The test R2 is 0.13245879447993736\n",
      "The explained variance is 0.1324617460384192\n",
      " \n",
      "The alpha is  0.1353352832366127\n",
      "The training R2 is 0.018806705441511973\n",
      "The test R2 is 0.018795857161060137\n",
      "The explained variance is 0.018803253546303744\n",
      " \n",
      "The alpha is  0.36787944117144233\n",
      "The training R2 is -1.509903313490213e-14\n",
      "The test R2 is -9.076688736175953e-06\n",
      "The explained variance is 0.0\n",
      " \n",
      "The alpha is  1.0\n",
      "The training R2 is -1.509903313490213e-14\n",
      "The test R2 is -9.076688736175953e-06\n",
      "The explained variance is 0.0\n"
     ]
    }
   ],
   "source": [
    "for alpha in [exp(i) for i in range(-10,1)]:\n",
    "    print(\" \")\n",
    "    print(\"The alpha is \", alpha)\n",
    "    lasso = Lasso(alpha=alpha,fit_intercept=True,max_iter=5000)\n",
    "    lasso_reg = lasso.fit(d2v_X_train, y_train)\n",
    "    print('The training R2 is', lasso.score(d2v_X_train, y_train))\n",
    "    print('The test R2 is', lasso.score(d2v_X_test, y_test))\n",
    "    print('The explained variance is', explained_variance_score(y_test, lasso.predict(d2v_X_test)))"
   ]
  },
  {
   "cell_type": "markdown",
   "metadata": {},
   "source": [
    "## non-linear models"
   ]
  },
  {
   "cell_type": "code",
   "execution_count": null,
   "metadata": {},
   "outputs": [],
   "source": [
    "#from sklearn.neighbors import KNeighborsRegressor"
   ]
  },
  {
   "cell_type": "code",
   "execution_count": null,
   "metadata": {},
   "outputs": [],
   "source": [
    "#for n in [8,9,10,11,12,13,14]:\n",
    "#    print(\"n = \",n)\n",
    "#    knn = KNeighborsRegressor(n_neighbors=n)\n",
    "#    knn_reg = knn.fit(d2v_X_train,y_train)\n",
    "#    print('The training R2 is', knn_reg.score(d2v_X_train, y_train))\n",
    "#    print('The test R2 is', knn_reg.score(d2v_X_test, y_test))\n",
    "#    print('The explained variance is', explained_variance_score(y_test, knn_reg.predict(d2v_X_test)))"
   ]
  },
  {
   "cell_type": "markdown",
   "metadata": {},
   "source": [
    "## trees and forests"
   ]
  },
  {
   "cell_type": "code",
   "execution_count": 43,
   "metadata": {},
   "outputs": [],
   "source": [
    "from sklearn.model_selection import ParameterGrid,GridSearchCV"
   ]
  },
  {
   "cell_type": "markdown",
   "metadata": {},
   "source": [
    "## Gradient Boosting"
   ]
  },
  {
   "cell_type": "code",
   "execution_count": 46,
   "metadata": {},
   "outputs": [],
   "source": [
    "from sklearn.model_selection import cross_val_predict"
   ]
  },
  {
   "cell_type": "code",
   "execution_count": 44,
   "metadata": {},
   "outputs": [
    {
     "name": "stderr",
     "output_type": "stream",
     "text": [
      "/opt/anaconda/lib/python3.7/site-packages/sklearn/ensemble/weight_boosting.py:29: DeprecationWarning: numpy.core.umath_tests is an internal NumPy module and should not be imported. It will be removed in a future NumPy release.\n",
      "  from numpy.core.umath_tests import inner1d\n"
     ]
    }
   ],
   "source": [
    "from sklearn.ensemble import GradientBoostingRegressor"
   ]
  },
  {
   "cell_type": "code",
   "execution_count": 45,
   "metadata": {},
   "outputs": [
    {
     "name": "stdout",
     "output_type": "stream",
     "text": [
      "The training R2 is 0.210513424857488\n",
      "The test R2 is 0.19708792858609814\n",
      "The explained variance is 0.19708794409096764\n"
     ]
    }
   ],
   "source": [
    "gdb = GradientBoostingRegressor()\n",
    "gdb_reg = gdb.fit(d2v_X_train, y_train)\n",
    "print('The training R2 is', gdb_reg.score(d2v_X_train, y_train))\n",
    "print('The test R2 is', gdb_reg.score(d2v_X_test, y_test))\n",
    "print('The explained variance is', explained_variance_score(y_test, gdb_reg.predict(d2v_X_test)))"
   ]
  },
  {
   "cell_type": "code",
   "execution_count": null,
   "metadata": {},
   "outputs": [],
   "source": [
    "param_vals = {'max_depth': [2, 5, 10], \"n_estimators\": [50,100,200], \"learning_rate\" : [0.01, 0.05, 0.1]}\n",
    "gdb = GradientBoostingRegressor()\n",
    "gdb_grid_cv = GridSearchCV(gdb, param_vals)\n",
    "\n",
    "gdb_grid_cv_reg = gdb_grid_cv.fit(d2v_X_train, y_train)\n",
    "print('The training R2 is', gdb_grid_cv_reg.score(d2v_X_train, y_train))\n",
    "print('The test R2 is', gdb_grid_cv_reg.score(d2v_X_test, y_test))\n",
    "print('The explained variance is', explained_variance_score(y_test, gdb_grid_cv_reg.predict(d2v_X_test)))"
   ]
  },
  {
   "cell_type": "code",
   "execution_count": null,
   "metadata": {},
   "outputs": [],
   "source": [
    "gdb_grid_cv_reg.best_estimator_"
   ]
  },
  {
   "cell_type": "code",
   "execution_count": null,
   "metadata": {},
   "outputs": [],
   "source": [
    "citation_data = citation_data[[\"caseid\",\"logcounts\",\"predict_logcounts\"]]\n",
    "citation_data.to_csv(\"citation_data.csv\")"
   ]
  },
  {
   "cell_type": "markdown",
   "metadata": {},
   "source": [
    "## a neural network"
   ]
  },
  {
   "cell_type": "code",
   "execution_count": null,
   "metadata": {},
   "outputs": [],
   "source": []
  },
  {
   "cell_type": "code",
   "execution_count": 57,
   "metadata": {},
   "outputs": [],
   "source": [
    "from keras.models import Sequential\n",
    "from keras.layers import Dense, Activation, Dropout, AveragePooling1D"
   ]
  },
  {
   "cell_type": "code",
   "execution_count": 58,
   "metadata": {},
   "outputs": [],
   "source": [
    "model = Sequential()\n",
    "model.add(Dense(128, input_dim=200,activation='relu'))\n",
    "model.add(Dense(128,activation='relu'))\n",
    "model.add(Dense(128,activation='relu'))\n",
    "model.add(Dense(128,activation='relu'))\n",
    "model.add(Dropout(rate = 0.05))\n",
    "model.add(Dense(128,activation='relu'))\n",
    "model.add(Dense(128,activation='relu'))\n",
    "model.add(Dense(128,activation='relu'))\n",
    "model.add(Dropout(rate = 0.05))\n",
    "model.add(Dense(128,activation='relu'))\n",
    "model.add(Dense(128,activation='relu'))\n",
    "model.add(Dense(128,activation='relu'))\n",
    "model.add(Dropout(rate = 0.05))\n",
    "model.add(Dense(128,activation='relu'))\n",
    "model.add(Dense(128,activation='relu'))\n",
    "model.add(Dense(128,activation='relu'))\n",
    "model.add(Dropout(rate = 0.05))\n",
    "model.add(Dense(128,activation='relu'))\n",
    "model.add(Dense(128,activation='relu'))\n",
    "model.add(Dense(128,activation='relu'))\n",
    "model.add(Dropout(rate = 0.05))\n",
    "model.add(Dense(128,activation='relu'))\n",
    "model.add(Dense(128,activation='relu'))\n",
    "model.add(Dense(128,activation='relu'))\n",
    "model.add(Dropout(rate = 0.05))\n",
    "model.add(Dense(128,activation='relu'))\n",
    "model.add(Dense(128,activation='relu'))\n",
    "model.add(Dense(128,activation='relu'))\n",
    "model.add(Dropout(rate = 0.05))\n",
    "model.add(Dense(64,activation='relu'))\n",
    "model.add(Dense(64,activation='relu'))\n",
    "model.add(Dense(64,activation='relu'))\n",
    "model.add(Dropout(rate = 0.05))\n",
    "model.add(Dense(32,activation='relu'))\n",
    "model.add(Dense(1,activation='linear'))"
   ]
  },
  {
   "cell_type": "code",
   "execution_count": 59,
   "metadata": {},
   "outputs": [
    {
     "name": "stdout",
     "output_type": "stream",
     "text": [
      "_________________________________________________________________\n",
      "Layer (type)                 Output Shape              Param #   \n",
      "=================================================================\n",
      "dense_28 (Dense)             (None, 128)               25728     \n",
      "_________________________________________________________________\n",
      "dense_29 (Dense)             (None, 128)               16512     \n",
      "_________________________________________________________________\n",
      "dense_30 (Dense)             (None, 128)               16512     \n",
      "_________________________________________________________________\n",
      "dense_31 (Dense)             (None, 128)               16512     \n",
      "_________________________________________________________________\n",
      "dropout_9 (Dropout)          (None, 128)               0         \n",
      "_________________________________________________________________\n",
      "dense_32 (Dense)             (None, 128)               16512     \n",
      "_________________________________________________________________\n",
      "dense_33 (Dense)             (None, 128)               16512     \n",
      "_________________________________________________________________\n",
      "dense_34 (Dense)             (None, 128)               16512     \n",
      "_________________________________________________________________\n",
      "dropout_10 (Dropout)         (None, 128)               0         \n",
      "_________________________________________________________________\n",
      "dense_35 (Dense)             (None, 128)               16512     \n",
      "_________________________________________________________________\n",
      "dense_36 (Dense)             (None, 128)               16512     \n",
      "_________________________________________________________________\n",
      "dense_37 (Dense)             (None, 128)               16512     \n",
      "_________________________________________________________________\n",
      "dropout_11 (Dropout)         (None, 128)               0         \n",
      "_________________________________________________________________\n",
      "dense_38 (Dense)             (None, 128)               16512     \n",
      "_________________________________________________________________\n",
      "dense_39 (Dense)             (None, 128)               16512     \n",
      "_________________________________________________________________\n",
      "dense_40 (Dense)             (None, 128)               16512     \n",
      "_________________________________________________________________\n",
      "dropout_12 (Dropout)         (None, 128)               0         \n",
      "_________________________________________________________________\n",
      "dense_41 (Dense)             (None, 128)               16512     \n",
      "_________________________________________________________________\n",
      "dense_42 (Dense)             (None, 128)               16512     \n",
      "_________________________________________________________________\n",
      "dense_43 (Dense)             (None, 128)               16512     \n",
      "_________________________________________________________________\n",
      "dropout_13 (Dropout)         (None, 128)               0         \n",
      "_________________________________________________________________\n",
      "dense_44 (Dense)             (None, 128)               16512     \n",
      "_________________________________________________________________\n",
      "dense_45 (Dense)             (None, 128)               16512     \n",
      "_________________________________________________________________\n",
      "dense_46 (Dense)             (None, 128)               16512     \n",
      "_________________________________________________________________\n",
      "dropout_14 (Dropout)         (None, 128)               0         \n",
      "_________________________________________________________________\n",
      "dense_47 (Dense)             (None, 128)               16512     \n",
      "_________________________________________________________________\n",
      "dense_48 (Dense)             (None, 128)               16512     \n",
      "_________________________________________________________________\n",
      "dense_49 (Dense)             (None, 128)               16512     \n",
      "_________________________________________________________________\n",
      "dropout_15 (Dropout)         (None, 128)               0         \n",
      "_________________________________________________________________\n",
      "dense_50 (Dense)             (None, 64)                8256      \n",
      "_________________________________________________________________\n",
      "dense_51 (Dense)             (None, 64)                4160      \n",
      "_________________________________________________________________\n",
      "dense_52 (Dense)             (None, 64)                4160      \n",
      "_________________________________________________________________\n",
      "dropout_16 (Dropout)         (None, 64)                0         \n",
      "_________________________________________________________________\n",
      "dense_53 (Dense)             (None, 32)                2080      \n",
      "_________________________________________________________________\n",
      "dense_54 (Dense)             (None, 1)                 33        \n",
      "=================================================================\n",
      "Total params: 391,169\n",
      "Trainable params: 391,169\n",
      "Non-trainable params: 0\n",
      "_________________________________________________________________\n"
     ]
    }
   ],
   "source": [
    "# Compile the network :\n",
    "model.compile(loss='mean_squared_error', optimizer='adam', metrics=['mean_squared_error'])\n",
    "model.summary()"
   ]
  },
  {
   "cell_type": "code",
   "execution_count": 60,
   "metadata": {},
   "outputs": [
    {
     "name": "stdout",
     "output_type": "stream",
     "text": [
      "WARNING:tensorflow:From /home/jcai/.local/lib/python3.7/site-packages/tensorflow/python/ops/math_ops.py:3066: to_int32 (from tensorflow.python.ops.math_ops) is deprecated and will be removed in a future version.\n",
      "Instructions for updating:\n",
      "Use tf.cast instead.\n"
     ]
    },
    {
     "ename": "KeyboardInterrupt",
     "evalue": "",
     "output_type": "error",
     "traceback": [
      "\u001b[0;31m---------------------------------------------------------------------------\u001b[0m",
      "\u001b[0;31mKeyboardInterrupt\u001b[0m                         Traceback (most recent call last)",
      "\u001b[0;32m<ipython-input-60-b10e7e7623e2>\u001b[0m in \u001b[0;36m<module>\u001b[0;34m()\u001b[0m\n\u001b[0;32m----> 1\u001b[0;31m \u001b[0mmodel\u001b[0m\u001b[0;34m.\u001b[0m\u001b[0mfit\u001b[0m\u001b[0;34m(\u001b[0m\u001b[0md2v_X_train\u001b[0m\u001b[0;34m,\u001b[0m \u001b[0my_train\u001b[0m\u001b[0;34m,\u001b[0m \u001b[0mepochs\u001b[0m\u001b[0;34m=\u001b[0m\u001b[0;36m1000\u001b[0m\u001b[0;34m,\u001b[0m \u001b[0mbatch_size\u001b[0m\u001b[0;34m=\u001b[0m\u001b[0;36m32\u001b[0m\u001b[0;34m,\u001b[0m \u001b[0mvalidation_split\u001b[0m \u001b[0;34m=\u001b[0m \u001b[0;36m0.2\u001b[0m\u001b[0;34m,\u001b[0m\u001b[0mverbose\u001b[0m \u001b[0;34m=\u001b[0m \u001b[0;32mFalse\u001b[0m\u001b[0;34m)\u001b[0m\u001b[0;34m\u001b[0m\u001b[0;34m\u001b[0m\u001b[0m\n\u001b[0m",
      "\u001b[0;32m~/.local/lib/python3.7/site-packages/keras/engine/training.py\u001b[0m in \u001b[0;36mfit\u001b[0;34m(self, x, y, batch_size, epochs, verbose, callbacks, validation_split, validation_data, shuffle, class_weight, sample_weight, initial_epoch, steps_per_epoch, validation_steps, **kwargs)\u001b[0m\n\u001b[1;32m   1037\u001b[0m                                         \u001b[0minitial_epoch\u001b[0m\u001b[0;34m=\u001b[0m\u001b[0minitial_epoch\u001b[0m\u001b[0;34m,\u001b[0m\u001b[0;34m\u001b[0m\u001b[0;34m\u001b[0m\u001b[0m\n\u001b[1;32m   1038\u001b[0m                                         \u001b[0msteps_per_epoch\u001b[0m\u001b[0;34m=\u001b[0m\u001b[0msteps_per_epoch\u001b[0m\u001b[0;34m,\u001b[0m\u001b[0;34m\u001b[0m\u001b[0;34m\u001b[0m\u001b[0m\n\u001b[0;32m-> 1039\u001b[0;31m                                         validation_steps=validation_steps)\n\u001b[0m\u001b[1;32m   1040\u001b[0m \u001b[0;34m\u001b[0m\u001b[0m\n\u001b[1;32m   1041\u001b[0m     def evaluate(self, x=None, y=None,\n",
      "\u001b[0;32m~/.local/lib/python3.7/site-packages/keras/engine/training_arrays.py\u001b[0m in \u001b[0;36mfit_loop\u001b[0;34m(model, f, ins, out_labels, batch_size, epochs, verbose, callbacks, val_f, val_ins, shuffle, callback_metrics, initial_epoch, steps_per_epoch, validation_steps)\u001b[0m\n\u001b[1;32m    210\u001b[0m                         val_outs = test_loop(model, val_f, val_ins,\n\u001b[1;32m    211\u001b[0m                                              \u001b[0mbatch_size\u001b[0m\u001b[0;34m=\u001b[0m\u001b[0mbatch_size\u001b[0m\u001b[0;34m,\u001b[0m\u001b[0;34m\u001b[0m\u001b[0;34m\u001b[0m\u001b[0m\n\u001b[0;32m--> 212\u001b[0;31m                                              verbose=0)\n\u001b[0m\u001b[1;32m    213\u001b[0m                         \u001b[0mval_outs\u001b[0m \u001b[0;34m=\u001b[0m \u001b[0mto_list\u001b[0m\u001b[0;34m(\u001b[0m\u001b[0mval_outs\u001b[0m\u001b[0;34m)\u001b[0m\u001b[0;34m\u001b[0m\u001b[0;34m\u001b[0m\u001b[0m\n\u001b[1;32m    214\u001b[0m                         \u001b[0;31m# Same labels assumed.\u001b[0m\u001b[0;34m\u001b[0m\u001b[0;34m\u001b[0m\u001b[0;34m\u001b[0m\u001b[0m\n",
      "\u001b[0;32m~/.local/lib/python3.7/site-packages/keras/engine/training_arrays.py\u001b[0m in \u001b[0;36mtest_loop\u001b[0;34m(model, f, ins, batch_size, verbose, steps)\u001b[0m\n\u001b[1;32m    390\u001b[0m                 \u001b[0mins_batch\u001b[0m\u001b[0;34m[\u001b[0m\u001b[0mi\u001b[0m\u001b[0;34m]\u001b[0m \u001b[0;34m=\u001b[0m \u001b[0mins_batch\u001b[0m\u001b[0;34m[\u001b[0m\u001b[0mi\u001b[0m\u001b[0;34m]\u001b[0m\u001b[0;34m.\u001b[0m\u001b[0mtoarray\u001b[0m\u001b[0;34m(\u001b[0m\u001b[0;34m)\u001b[0m\u001b[0;34m\u001b[0m\u001b[0;34m\u001b[0m\u001b[0m\n\u001b[1;32m    391\u001b[0m \u001b[0;34m\u001b[0m\u001b[0m\n\u001b[0;32m--> 392\u001b[0;31m             \u001b[0mbatch_outs\u001b[0m \u001b[0;34m=\u001b[0m \u001b[0mf\u001b[0m\u001b[0;34m(\u001b[0m\u001b[0mins_batch\u001b[0m\u001b[0;34m)\u001b[0m\u001b[0;34m\u001b[0m\u001b[0;34m\u001b[0m\u001b[0m\n\u001b[0m\u001b[1;32m    393\u001b[0m             \u001b[0;32mif\u001b[0m \u001b[0misinstance\u001b[0m\u001b[0;34m(\u001b[0m\u001b[0mbatch_outs\u001b[0m\u001b[0;34m,\u001b[0m \u001b[0mlist\u001b[0m\u001b[0;34m)\u001b[0m\u001b[0;34m:\u001b[0m\u001b[0;34m\u001b[0m\u001b[0;34m\u001b[0m\u001b[0m\n\u001b[1;32m    394\u001b[0m                 \u001b[0;32mif\u001b[0m \u001b[0mbatch_index\u001b[0m \u001b[0;34m==\u001b[0m \u001b[0;36m0\u001b[0m\u001b[0;34m:\u001b[0m\u001b[0;34m\u001b[0m\u001b[0;34m\u001b[0m\u001b[0m\n",
      "\u001b[0;32m~/.local/lib/python3.7/site-packages/keras/backend/tensorflow_backend.py\u001b[0m in \u001b[0;36m__call__\u001b[0;34m(self, inputs)\u001b[0m\n\u001b[1;32m   2713\u001b[0m                 \u001b[0;32mreturn\u001b[0m \u001b[0mself\u001b[0m\u001b[0;34m.\u001b[0m\u001b[0m_legacy_call\u001b[0m\u001b[0;34m(\u001b[0m\u001b[0minputs\u001b[0m\u001b[0;34m)\u001b[0m\u001b[0;34m\u001b[0m\u001b[0;34m\u001b[0m\u001b[0m\n\u001b[1;32m   2714\u001b[0m \u001b[0;34m\u001b[0m\u001b[0m\n\u001b[0;32m-> 2715\u001b[0;31m             \u001b[0;32mreturn\u001b[0m \u001b[0mself\u001b[0m\u001b[0;34m.\u001b[0m\u001b[0m_call\u001b[0m\u001b[0;34m(\u001b[0m\u001b[0minputs\u001b[0m\u001b[0;34m)\u001b[0m\u001b[0;34m\u001b[0m\u001b[0;34m\u001b[0m\u001b[0m\n\u001b[0m\u001b[1;32m   2716\u001b[0m         \u001b[0;32melse\u001b[0m\u001b[0;34m:\u001b[0m\u001b[0;34m\u001b[0m\u001b[0;34m\u001b[0m\u001b[0m\n\u001b[1;32m   2717\u001b[0m             \u001b[0;32mif\u001b[0m \u001b[0mpy_any\u001b[0m\u001b[0;34m(\u001b[0m\u001b[0mis_tensor\u001b[0m\u001b[0;34m(\u001b[0m\u001b[0mx\u001b[0m\u001b[0;34m)\u001b[0m \u001b[0;32mfor\u001b[0m \u001b[0mx\u001b[0m \u001b[0;32min\u001b[0m \u001b[0minputs\u001b[0m\u001b[0;34m)\u001b[0m\u001b[0;34m:\u001b[0m\u001b[0;34m\u001b[0m\u001b[0;34m\u001b[0m\u001b[0m\n",
      "\u001b[0;32m~/.local/lib/python3.7/site-packages/keras/backend/tensorflow_backend.py\u001b[0m in \u001b[0;36m_call\u001b[0;34m(self, inputs)\u001b[0m\n\u001b[1;32m   2673\u001b[0m             \u001b[0mfetched\u001b[0m \u001b[0;34m=\u001b[0m \u001b[0mself\u001b[0m\u001b[0;34m.\u001b[0m\u001b[0m_callable_fn\u001b[0m\u001b[0;34m(\u001b[0m\u001b[0;34m*\u001b[0m\u001b[0marray_vals\u001b[0m\u001b[0;34m,\u001b[0m \u001b[0mrun_metadata\u001b[0m\u001b[0;34m=\u001b[0m\u001b[0mself\u001b[0m\u001b[0;34m.\u001b[0m\u001b[0mrun_metadata\u001b[0m\u001b[0;34m)\u001b[0m\u001b[0;34m\u001b[0m\u001b[0;34m\u001b[0m\u001b[0m\n\u001b[1;32m   2674\u001b[0m         \u001b[0;32melse\u001b[0m\u001b[0;34m:\u001b[0m\u001b[0;34m\u001b[0m\u001b[0;34m\u001b[0m\u001b[0m\n\u001b[0;32m-> 2675\u001b[0;31m             \u001b[0mfetched\u001b[0m \u001b[0;34m=\u001b[0m \u001b[0mself\u001b[0m\u001b[0;34m.\u001b[0m\u001b[0m_callable_fn\u001b[0m\u001b[0;34m(\u001b[0m\u001b[0;34m*\u001b[0m\u001b[0marray_vals\u001b[0m\u001b[0;34m)\u001b[0m\u001b[0;34m\u001b[0m\u001b[0;34m\u001b[0m\u001b[0m\n\u001b[0m\u001b[1;32m   2676\u001b[0m         \u001b[0;32mreturn\u001b[0m \u001b[0mfetched\u001b[0m\u001b[0;34m[\u001b[0m\u001b[0;34m:\u001b[0m\u001b[0mlen\u001b[0m\u001b[0;34m(\u001b[0m\u001b[0mself\u001b[0m\u001b[0;34m.\u001b[0m\u001b[0moutputs\u001b[0m\u001b[0;34m)\u001b[0m\u001b[0;34m]\u001b[0m\u001b[0;34m\u001b[0m\u001b[0;34m\u001b[0m\u001b[0m\n\u001b[1;32m   2677\u001b[0m \u001b[0;34m\u001b[0m\u001b[0m\n",
      "\u001b[0;32m~/.local/lib/python3.7/site-packages/tensorflow/python/client/session.py\u001b[0m in \u001b[0;36m__call__\u001b[0;34m(self, *args, **kwargs)\u001b[0m\n\u001b[1;32m   1437\u001b[0m           ret = tf_session.TF_SessionRunCallable(\n\u001b[1;32m   1438\u001b[0m               \u001b[0mself\u001b[0m\u001b[0;34m.\u001b[0m\u001b[0m_session\u001b[0m\u001b[0;34m.\u001b[0m\u001b[0m_session\u001b[0m\u001b[0;34m,\u001b[0m \u001b[0mself\u001b[0m\u001b[0;34m.\u001b[0m\u001b[0m_handle\u001b[0m\u001b[0;34m,\u001b[0m \u001b[0margs\u001b[0m\u001b[0;34m,\u001b[0m \u001b[0mstatus\u001b[0m\u001b[0;34m,\u001b[0m\u001b[0;34m\u001b[0m\u001b[0;34m\u001b[0m\u001b[0m\n\u001b[0;32m-> 1439\u001b[0;31m               run_metadata_ptr)\n\u001b[0m\u001b[1;32m   1440\u001b[0m         \u001b[0;32mif\u001b[0m \u001b[0mrun_metadata\u001b[0m\u001b[0;34m:\u001b[0m\u001b[0;34m\u001b[0m\u001b[0;34m\u001b[0m\u001b[0m\n\u001b[1;32m   1441\u001b[0m           \u001b[0mproto_data\u001b[0m \u001b[0;34m=\u001b[0m \u001b[0mtf_session\u001b[0m\u001b[0;34m.\u001b[0m\u001b[0mTF_GetBuffer\u001b[0m\u001b[0;34m(\u001b[0m\u001b[0mrun_metadata_ptr\u001b[0m\u001b[0;34m)\u001b[0m\u001b[0;34m\u001b[0m\u001b[0;34m\u001b[0m\u001b[0m\n",
      "\u001b[0;31mKeyboardInterrupt\u001b[0m: "
     ]
    }
   ],
   "source": [
    "model.fit(d2v_X_train, y_train, epochs=1000, batch_size=32, validation_split = 0.2,verbose = False)"
   ]
  },
  {
   "cell_type": "code",
   "execution_count": null,
   "metadata": {},
   "outputs": [],
   "source": [
    "predictions = model.predict(d2v_X_test)"
   ]
  },
  {
   "cell_type": "code",
   "execution_count": null,
   "metadata": {},
   "outputs": [],
   "source": [
    "print('The explained variance is', explained_variance_score(y_test, predictions))"
   ]
  },
  {
   "cell_type": "code",
   "execution_count": 61,
   "metadata": {},
   "outputs": [
    {
     "name": "stdout",
     "output_type": "stream",
     "text": [
      "The training R2 is 0.24063442330438345\n",
      "The test R2 is 0.23925448982612618\n",
      "The explained variance is 0.23925531397789201\n"
     ]
    }
   ],
   "source": [
    "lasso = Lasso(alpha=exp(-10),fit_intercept=True,max_iter=5000)\n",
    "lasso.fit(d2v_X_train, y_train)\n",
    "print('The training R2 is', lasso.score(d2v_X_train, y_train))\n",
    "print('The test R2 is', lasso.score(d2v_X_test, y_test))\n",
    "print('The explained variance is', explained_variance_score(y_test, lasso.predict(d2v_X_test)))"
   ]
  },
  {
   "cell_type": "code",
   "execution_count": 65,
   "metadata": {},
   "outputs": [
    {
     "name": "stdout",
     "output_type": "stream",
     "text": [
      "The explained variance is 0.24035827761292627\n"
     ]
    }
   ],
   "source": [
    "print('The explained variance is', explained_variance_score(y, lasso.predict(d2v_X)))"
   ]
  },
  {
   "cell_type": "code",
   "execution_count": 66,
   "metadata": {},
   "outputs": [],
   "source": [
    "citation_data[\"predict_logcounts\"] = lasso.predict(d2v_X)"
   ]
  },
  {
   "cell_type": "code",
   "execution_count": 68,
   "metadata": {},
   "outputs": [
    {
     "data": {
      "text/plain": [
       "Index(['caseid', 'within', 'outside', 'logcounts', 'd2v', 'd2v_dm',\n",
       "       'predict_logcounts'],\n",
       "      dtype='object')"
      ]
     },
     "execution_count": 68,
     "metadata": {},
     "output_type": "execute_result"
    }
   ],
   "source": [
    "citation_data.columns"
   ]
  },
  {
   "cell_type": "code",
   "execution_count": 69,
   "metadata": {},
   "outputs": [],
   "source": [
    "citation_data = citation_data[['caseid','within', 'outside',\"logcounts\",\"predict_logcounts\"]]\n",
    "citation_data.to_csv(\"citation_data.csv\")"
   ]
  },
  {
   "cell_type": "code",
   "execution_count": 3,
   "metadata": {},
   "outputs": [],
   "source": [
    "import pandas as pd"
   ]
  },
  {
   "cell_type": "code",
   "execution_count": 5,
   "metadata": {},
   "outputs": [],
   "source": [
    "citation_data = pd.read_csv(\"/home/jcai/geometry_of_law/data_and_dictionary/citation_data.csv\")"
   ]
  },
  {
   "cell_type": "code",
   "execution_count": 70,
   "metadata": {},
   "outputs": [
    {
     "data": {
      "text/html": [
       "<div>\n",
       "<style scoped>\n",
       "    .dataframe tbody tr th:only-of-type {\n",
       "        vertical-align: middle;\n",
       "    }\n",
       "\n",
       "    .dataframe tbody tr th {\n",
       "        vertical-align: top;\n",
       "    }\n",
       "\n",
       "    .dataframe thead th {\n",
       "        text-align: right;\n",
       "    }\n",
       "</style>\n",
       "<table border=\"1\" class=\"dataframe\">\n",
       "  <thead>\n",
       "    <tr style=\"text-align: right;\">\n",
       "      <th></th>\n",
       "      <th>caseid</th>\n",
       "      <th>within</th>\n",
       "      <th>outside</th>\n",
       "      <th>logcounts</th>\n",
       "      <th>predict_logcounts</th>\n",
       "    </tr>\n",
       "  </thead>\n",
       "  <tbody>\n",
       "    <tr>\n",
       "      <th>0</th>\n",
       "      <td>X101L14003</td>\n",
       "      <td>1.0</td>\n",
       "      <td>0.0</td>\n",
       "      <td>0.693147</td>\n",
       "      <td>0.528095</td>\n",
       "    </tr>\n",
       "    <tr>\n",
       "      <th>1</th>\n",
       "      <td>X10284I003</td>\n",
       "      <td>0.0</td>\n",
       "      <td>0.0</td>\n",
       "      <td>0.000000</td>\n",
       "      <td>2.450891</td>\n",
       "    </tr>\n",
       "    <tr>\n",
       "      <th>2</th>\n",
       "      <td>X102UPO003</td>\n",
       "      <td>11.0</td>\n",
       "      <td>3.0</td>\n",
       "      <td>2.708050</td>\n",
       "      <td>2.361321</td>\n",
       "    </tr>\n",
       "    <tr>\n",
       "      <th>14</th>\n",
       "      <td>X10379GN</td>\n",
       "      <td>0.0</td>\n",
       "      <td>0.0</td>\n",
       "      <td>0.000000</td>\n",
       "      <td>1.359573</td>\n",
       "    </tr>\n",
       "    <tr>\n",
       "      <th>16</th>\n",
       "      <td>X1037E8N</td>\n",
       "      <td>1.0</td>\n",
       "      <td>0.0</td>\n",
       "      <td>0.693147</td>\n",
       "      <td>1.457104</td>\n",
       "    </tr>\n",
       "    <tr>\n",
       "      <th>23</th>\n",
       "      <td>X1037G8N</td>\n",
       "      <td>0.0</td>\n",
       "      <td>0.0</td>\n",
       "      <td>0.000000</td>\n",
       "      <td>1.538895</td>\n",
       "    </tr>\n",
       "    <tr>\n",
       "      <th>25</th>\n",
       "      <td>X1037H8N</td>\n",
       "      <td>0.0</td>\n",
       "      <td>0.0</td>\n",
       "      <td>0.000000</td>\n",
       "      <td>1.739403</td>\n",
       "    </tr>\n",
       "    <tr>\n",
       "      <th>29</th>\n",
       "      <td>X1037LGN</td>\n",
       "      <td>0.0</td>\n",
       "      <td>0.0</td>\n",
       "      <td>0.000000</td>\n",
       "      <td>1.377140</td>\n",
       "    </tr>\n",
       "    <tr>\n",
       "      <th>34</th>\n",
       "      <td>X1037P0N</td>\n",
       "      <td>0.0</td>\n",
       "      <td>0.0</td>\n",
       "      <td>0.000000</td>\n",
       "      <td>1.150165</td>\n",
       "    </tr>\n",
       "    <tr>\n",
       "      <th>35</th>\n",
       "      <td>X1037P8N</td>\n",
       "      <td>0.0</td>\n",
       "      <td>0.0</td>\n",
       "      <td>0.000000</td>\n",
       "      <td>1.235451</td>\n",
       "    </tr>\n",
       "    <tr>\n",
       "      <th>41</th>\n",
       "      <td>X1037VGN</td>\n",
       "      <td>0.0</td>\n",
       "      <td>0.0</td>\n",
       "      <td>0.000000</td>\n",
       "      <td>1.383442</td>\n",
       "    </tr>\n",
       "    <tr>\n",
       "      <th>42</th>\n",
       "      <td>X1037VON</td>\n",
       "      <td>0.0</td>\n",
       "      <td>0.0</td>\n",
       "      <td>0.000000</td>\n",
       "      <td>1.901737</td>\n",
       "    </tr>\n",
       "    <tr>\n",
       "      <th>44</th>\n",
       "      <td>X103IKM003</td>\n",
       "      <td>3.0</td>\n",
       "      <td>5.0</td>\n",
       "      <td>2.197225</td>\n",
       "      <td>2.163486</td>\n",
       "    </tr>\n",
       "    <tr>\n",
       "      <th>46</th>\n",
       "      <td>X104NEC003</td>\n",
       "      <td>2.0</td>\n",
       "      <td>6.0</td>\n",
       "      <td>2.197225</td>\n",
       "      <td>1.913833</td>\n",
       "    </tr>\n",
       "    <tr>\n",
       "      <th>48</th>\n",
       "      <td>X1059SU003</td>\n",
       "      <td>14.0</td>\n",
       "      <td>0.0</td>\n",
       "      <td>2.708050</td>\n",
       "      <td>2.099345</td>\n",
       "    </tr>\n",
       "    <tr>\n",
       "      <th>49</th>\n",
       "      <td>X1062OK003</td>\n",
       "      <td>2.0</td>\n",
       "      <td>1.0</td>\n",
       "      <td>1.386294</td>\n",
       "      <td>1.231402</td>\n",
       "    </tr>\n",
       "    <tr>\n",
       "      <th>51</th>\n",
       "      <td>X10673NA0000N</td>\n",
       "      <td>0.0</td>\n",
       "      <td>0.0</td>\n",
       "      <td>0.000000</td>\n",
       "      <td>1.805691</td>\n",
       "    </tr>\n",
       "    <tr>\n",
       "      <th>52</th>\n",
       "      <td>X106TKFA0000N</td>\n",
       "      <td>0.0</td>\n",
       "      <td>0.0</td>\n",
       "      <td>0.000000</td>\n",
       "      <td>1.162667</td>\n",
       "    </tr>\n",
       "    <tr>\n",
       "      <th>53</th>\n",
       "      <td>X107M5C003</td>\n",
       "      <td>4.0</td>\n",
       "      <td>1.0</td>\n",
       "      <td>1.791759</td>\n",
       "      <td>1.788820</td>\n",
       "    </tr>\n",
       "    <tr>\n",
       "      <th>57</th>\n",
       "      <td>X10BI0U003</td>\n",
       "      <td>6.0</td>\n",
       "      <td>12.0</td>\n",
       "      <td>2.944439</td>\n",
       "      <td>1.735291</td>\n",
       "    </tr>\n",
       "    <tr>\n",
       "      <th>60</th>\n",
       "      <td>X10COQC003</td>\n",
       "      <td>9.0</td>\n",
       "      <td>0.0</td>\n",
       "      <td>2.302585</td>\n",
       "      <td>2.962661</td>\n",
       "    </tr>\n",
       "    <tr>\n",
       "      <th>61</th>\n",
       "      <td>X10COQI003</td>\n",
       "      <td>27.0</td>\n",
       "      <td>0.0</td>\n",
       "      <td>3.332205</td>\n",
       "      <td>2.538390</td>\n",
       "    </tr>\n",
       "    <tr>\n",
       "      <th>66</th>\n",
       "      <td>X10EHLC003</td>\n",
       "      <td>2.0</td>\n",
       "      <td>3.0</td>\n",
       "      <td>1.791759</td>\n",
       "      <td>2.285358</td>\n",
       "    </tr>\n",
       "    <tr>\n",
       "      <th>67</th>\n",
       "      <td>X10EN44003</td>\n",
       "      <td>3.0</td>\n",
       "      <td>0.0</td>\n",
       "      <td>1.386294</td>\n",
       "      <td>1.245738</td>\n",
       "    </tr>\n",
       "    <tr>\n",
       "      <th>69</th>\n",
       "      <td>X10FKI0003</td>\n",
       "      <td>36.0</td>\n",
       "      <td>5.0</td>\n",
       "      <td>3.737670</td>\n",
       "      <td>1.889755</td>\n",
       "    </tr>\n",
       "    <tr>\n",
       "      <th>70</th>\n",
       "      <td>X10FV3U003</td>\n",
       "      <td>3.0</td>\n",
       "      <td>0.0</td>\n",
       "      <td>1.386294</td>\n",
       "      <td>1.833949</td>\n",
       "    </tr>\n",
       "    <tr>\n",
       "      <th>71</th>\n",
       "      <td>X10GGTK003</td>\n",
       "      <td>4.0</td>\n",
       "      <td>0.0</td>\n",
       "      <td>1.609438</td>\n",
       "      <td>1.583914</td>\n",
       "    </tr>\n",
       "    <tr>\n",
       "      <th>72</th>\n",
       "      <td>X10GH60003</td>\n",
       "      <td>21.0</td>\n",
       "      <td>2.0</td>\n",
       "      <td>3.178054</td>\n",
       "      <td>2.249033</td>\n",
       "    </tr>\n",
       "    <tr>\n",
       "      <th>76</th>\n",
       "      <td>X10I4IC003</td>\n",
       "      <td>2.0</td>\n",
       "      <td>2.0</td>\n",
       "      <td>1.609438</td>\n",
       "      <td>1.999254</td>\n",
       "    </tr>\n",
       "    <tr>\n",
       "      <th>83</th>\n",
       "      <td>X10J2T2003</td>\n",
       "      <td>8.0</td>\n",
       "      <td>6.0</td>\n",
       "      <td>2.708050</td>\n",
       "      <td>1.500119</td>\n",
       "    </tr>\n",
       "    <tr>\n",
       "      <th>...</th>\n",
       "      <td>...</td>\n",
       "      <td>...</td>\n",
       "      <td>...</td>\n",
       "      <td>...</td>\n",
       "      <td>...</td>\n",
       "    </tr>\n",
       "    <tr>\n",
       "      <th>387852</th>\n",
       "      <td>XVP5PR</td>\n",
       "      <td>1.0</td>\n",
       "      <td>1.0</td>\n",
       "      <td>1.098612</td>\n",
       "      <td>1.492542</td>\n",
       "    </tr>\n",
       "    <tr>\n",
       "      <th>387853</th>\n",
       "      <td>XVP5QF</td>\n",
       "      <td>8.0</td>\n",
       "      <td>7.0</td>\n",
       "      <td>2.772589</td>\n",
       "      <td>2.299609</td>\n",
       "    </tr>\n",
       "    <tr>\n",
       "      <th>387854</th>\n",
       "      <td>XVP5R3</td>\n",
       "      <td>0.0</td>\n",
       "      <td>2.0</td>\n",
       "      <td>1.098612</td>\n",
       "      <td>1.653902</td>\n",
       "    </tr>\n",
       "    <tr>\n",
       "      <th>387855</th>\n",
       "      <td>XVP5RN</td>\n",
       "      <td>4.0</td>\n",
       "      <td>0.0</td>\n",
       "      <td>1.609438</td>\n",
       "      <td>2.264392</td>\n",
       "    </tr>\n",
       "    <tr>\n",
       "      <th>387856</th>\n",
       "      <td>XVP5SB</td>\n",
       "      <td>2.0</td>\n",
       "      <td>1.0</td>\n",
       "      <td>1.386294</td>\n",
       "      <td>1.138727</td>\n",
       "    </tr>\n",
       "    <tr>\n",
       "      <th>387858</th>\n",
       "      <td>XVP5TJ</td>\n",
       "      <td>1.0</td>\n",
       "      <td>0.0</td>\n",
       "      <td>0.693147</td>\n",
       "      <td>2.086071</td>\n",
       "    </tr>\n",
       "    <tr>\n",
       "      <th>387861</th>\n",
       "      <td>XVP5VF</td>\n",
       "      <td>7.0</td>\n",
       "      <td>3.0</td>\n",
       "      <td>2.397895</td>\n",
       "      <td>1.977097</td>\n",
       "    </tr>\n",
       "    <tr>\n",
       "      <th>387862</th>\n",
       "      <td>XVP603</td>\n",
       "      <td>5.0</td>\n",
       "      <td>5.0</td>\n",
       "      <td>2.397895</td>\n",
       "      <td>1.499562</td>\n",
       "    </tr>\n",
       "    <tr>\n",
       "      <th>387864</th>\n",
       "      <td>XVP61B</td>\n",
       "      <td>1.0</td>\n",
       "      <td>0.0</td>\n",
       "      <td>0.693147</td>\n",
       "      <td>1.523777</td>\n",
       "    </tr>\n",
       "    <tr>\n",
       "      <th>387865</th>\n",
       "      <td>XVP61V</td>\n",
       "      <td>7.0</td>\n",
       "      <td>1.0</td>\n",
       "      <td>2.197225</td>\n",
       "      <td>2.123915</td>\n",
       "    </tr>\n",
       "    <tr>\n",
       "      <th>387866</th>\n",
       "      <td>XVP62J</td>\n",
       "      <td>6.0</td>\n",
       "      <td>1.0</td>\n",
       "      <td>2.079442</td>\n",
       "      <td>1.702054</td>\n",
       "    </tr>\n",
       "    <tr>\n",
       "      <th>387870</th>\n",
       "      <td>XVP653</td>\n",
       "      <td>1.0</td>\n",
       "      <td>2.0</td>\n",
       "      <td>1.386294</td>\n",
       "      <td>1.552465</td>\n",
       "    </tr>\n",
       "    <tr>\n",
       "      <th>387871</th>\n",
       "      <td>XVP65N</td>\n",
       "      <td>3.0</td>\n",
       "      <td>0.0</td>\n",
       "      <td>1.386294</td>\n",
       "      <td>1.182526</td>\n",
       "    </tr>\n",
       "    <tr>\n",
       "      <th>387872</th>\n",
       "      <td>XVP66B</td>\n",
       "      <td>93.0</td>\n",
       "      <td>17.0</td>\n",
       "      <td>4.709530</td>\n",
       "      <td>2.868433</td>\n",
       "    </tr>\n",
       "    <tr>\n",
       "      <th>387873</th>\n",
       "      <td>XVP66V</td>\n",
       "      <td>11.0</td>\n",
       "      <td>0.0</td>\n",
       "      <td>2.484907</td>\n",
       "      <td>2.020720</td>\n",
       "    </tr>\n",
       "    <tr>\n",
       "      <th>387877</th>\n",
       "      <td>XVP69F</td>\n",
       "      <td>0.0</td>\n",
       "      <td>0.0</td>\n",
       "      <td>0.000000</td>\n",
       "      <td>1.160257</td>\n",
       "    </tr>\n",
       "    <tr>\n",
       "      <th>387878</th>\n",
       "      <td>XVP6A3</td>\n",
       "      <td>9.0</td>\n",
       "      <td>1.0</td>\n",
       "      <td>2.397895</td>\n",
       "      <td>2.087461</td>\n",
       "    </tr>\n",
       "    <tr>\n",
       "      <th>387880</th>\n",
       "      <td>XVP6BB</td>\n",
       "      <td>3.0</td>\n",
       "      <td>0.0</td>\n",
       "      <td>1.386294</td>\n",
       "      <td>1.984168</td>\n",
       "    </tr>\n",
       "    <tr>\n",
       "      <th>387881</th>\n",
       "      <td>XVP6BV</td>\n",
       "      <td>7.0</td>\n",
       "      <td>0.0</td>\n",
       "      <td>2.079442</td>\n",
       "      <td>2.504758</td>\n",
       "    </tr>\n",
       "    <tr>\n",
       "      <th>387882</th>\n",
       "      <td>XVP6D7</td>\n",
       "      <td>27.0</td>\n",
       "      <td>3.0</td>\n",
       "      <td>3.433987</td>\n",
       "      <td>2.546612</td>\n",
       "    </tr>\n",
       "    <tr>\n",
       "      <th>387883</th>\n",
       "      <td>XVP6DR</td>\n",
       "      <td>5.0</td>\n",
       "      <td>0.0</td>\n",
       "      <td>1.791759</td>\n",
       "      <td>1.816837</td>\n",
       "    </tr>\n",
       "    <tr>\n",
       "      <th>387885</th>\n",
       "      <td>XVP6F3</td>\n",
       "      <td>10.0</td>\n",
       "      <td>0.0</td>\n",
       "      <td>2.397895</td>\n",
       "      <td>1.803374</td>\n",
       "    </tr>\n",
       "    <tr>\n",
       "      <th>387886</th>\n",
       "      <td>XVP6FN</td>\n",
       "      <td>3.0</td>\n",
       "      <td>2.0</td>\n",
       "      <td>1.791759</td>\n",
       "      <td>2.113087</td>\n",
       "    </tr>\n",
       "    <tr>\n",
       "      <th>387887</th>\n",
       "      <td>XVPAG0003</td>\n",
       "      <td>0.0</td>\n",
       "      <td>1.0</td>\n",
       "      <td>0.693147</td>\n",
       "      <td>2.415776</td>\n",
       "    </tr>\n",
       "    <tr>\n",
       "      <th>387891</th>\n",
       "      <td>XVPRE4003</td>\n",
       "      <td>0.0</td>\n",
       "      <td>0.0</td>\n",
       "      <td>0.000000</td>\n",
       "      <td>1.446126</td>\n",
       "    </tr>\n",
       "    <tr>\n",
       "      <th>387892</th>\n",
       "      <td>XVQA5A003</td>\n",
       "      <td>1.0</td>\n",
       "      <td>1.0</td>\n",
       "      <td>1.098612</td>\n",
       "      <td>1.586036</td>\n",
       "    </tr>\n",
       "    <tr>\n",
       "      <th>387893</th>\n",
       "      <td>XVR562003</td>\n",
       "      <td>6.0</td>\n",
       "      <td>0.0</td>\n",
       "      <td>1.945910</td>\n",
       "      <td>1.644634</td>\n",
       "    </tr>\n",
       "    <tr>\n",
       "      <th>387894</th>\n",
       "      <td>XVR5F8003</td>\n",
       "      <td>1.0</td>\n",
       "      <td>2.0</td>\n",
       "      <td>1.386294</td>\n",
       "      <td>2.091794</td>\n",
       "    </tr>\n",
       "    <tr>\n",
       "      <th>387895</th>\n",
       "      <td>XVR7H8003</td>\n",
       "      <td>1.0</td>\n",
       "      <td>0.0</td>\n",
       "      <td>0.693147</td>\n",
       "      <td>2.357885</td>\n",
       "    </tr>\n",
       "    <tr>\n",
       "      <th>387896</th>\n",
       "      <td>XVR99K003</td>\n",
       "      <td>16.0</td>\n",
       "      <td>2.0</td>\n",
       "      <td>2.944439</td>\n",
       "      <td>2.122987</td>\n",
       "    </tr>\n",
       "  </tbody>\n",
       "</table>\n",
       "<p>274271 rows × 5 columns</p>\n",
       "</div>"
      ],
      "text/plain": [
       "               caseid  within  outside  logcounts  predict_logcounts\n",
       "0          X101L14003     1.0      0.0   0.693147           0.528095\n",
       "1          X10284I003     0.0      0.0   0.000000           2.450891\n",
       "2          X102UPO003    11.0      3.0   2.708050           2.361321\n",
       "14           X10379GN     0.0      0.0   0.000000           1.359573\n",
       "16           X1037E8N     1.0      0.0   0.693147           1.457104\n",
       "23           X1037G8N     0.0      0.0   0.000000           1.538895\n",
       "25           X1037H8N     0.0      0.0   0.000000           1.739403\n",
       "29           X1037LGN     0.0      0.0   0.000000           1.377140\n",
       "34           X1037P0N     0.0      0.0   0.000000           1.150165\n",
       "35           X1037P8N     0.0      0.0   0.000000           1.235451\n",
       "41           X1037VGN     0.0      0.0   0.000000           1.383442\n",
       "42           X1037VON     0.0      0.0   0.000000           1.901737\n",
       "44         X103IKM003     3.0      5.0   2.197225           2.163486\n",
       "46         X104NEC003     2.0      6.0   2.197225           1.913833\n",
       "48         X1059SU003    14.0      0.0   2.708050           2.099345\n",
       "49         X1062OK003     2.0      1.0   1.386294           1.231402\n",
       "51      X10673NA0000N     0.0      0.0   0.000000           1.805691\n",
       "52      X106TKFA0000N     0.0      0.0   0.000000           1.162667\n",
       "53         X107M5C003     4.0      1.0   1.791759           1.788820\n",
       "57         X10BI0U003     6.0     12.0   2.944439           1.735291\n",
       "60         X10COQC003     9.0      0.0   2.302585           2.962661\n",
       "61         X10COQI003    27.0      0.0   3.332205           2.538390\n",
       "66         X10EHLC003     2.0      3.0   1.791759           2.285358\n",
       "67         X10EN44003     3.0      0.0   1.386294           1.245738\n",
       "69         X10FKI0003    36.0      5.0   3.737670           1.889755\n",
       "70         X10FV3U003     3.0      0.0   1.386294           1.833949\n",
       "71         X10GGTK003     4.0      0.0   1.609438           1.583914\n",
       "72         X10GH60003    21.0      2.0   3.178054           2.249033\n",
       "76         X10I4IC003     2.0      2.0   1.609438           1.999254\n",
       "83         X10J2T2003     8.0      6.0   2.708050           1.500119\n",
       "...               ...     ...      ...        ...                ...\n",
       "387852         XVP5PR     1.0      1.0   1.098612           1.492542\n",
       "387853         XVP5QF     8.0      7.0   2.772589           2.299609\n",
       "387854         XVP5R3     0.0      2.0   1.098612           1.653902\n",
       "387855         XVP5RN     4.0      0.0   1.609438           2.264392\n",
       "387856         XVP5SB     2.0      1.0   1.386294           1.138727\n",
       "387858         XVP5TJ     1.0      0.0   0.693147           2.086071\n",
       "387861         XVP5VF     7.0      3.0   2.397895           1.977097\n",
       "387862         XVP603     5.0      5.0   2.397895           1.499562\n",
       "387864         XVP61B     1.0      0.0   0.693147           1.523777\n",
       "387865         XVP61V     7.0      1.0   2.197225           2.123915\n",
       "387866         XVP62J     6.0      1.0   2.079442           1.702054\n",
       "387870         XVP653     1.0      2.0   1.386294           1.552465\n",
       "387871         XVP65N     3.0      0.0   1.386294           1.182526\n",
       "387872         XVP66B    93.0     17.0   4.709530           2.868433\n",
       "387873         XVP66V    11.0      0.0   2.484907           2.020720\n",
       "387877         XVP69F     0.0      0.0   0.000000           1.160257\n",
       "387878         XVP6A3     9.0      1.0   2.397895           2.087461\n",
       "387880         XVP6BB     3.0      0.0   1.386294           1.984168\n",
       "387881         XVP6BV     7.0      0.0   2.079442           2.504758\n",
       "387882         XVP6D7    27.0      3.0   3.433987           2.546612\n",
       "387883         XVP6DR     5.0      0.0   1.791759           1.816837\n",
       "387885         XVP6F3    10.0      0.0   2.397895           1.803374\n",
       "387886         XVP6FN     3.0      2.0   1.791759           2.113087\n",
       "387887      XVPAG0003     0.0      1.0   0.693147           2.415776\n",
       "387891      XVPRE4003     0.0      0.0   0.000000           1.446126\n",
       "387892      XVQA5A003     1.0      1.0   1.098612           1.586036\n",
       "387893      XVR562003     6.0      0.0   1.945910           1.644634\n",
       "387894      XVR5F8003     1.0      2.0   1.386294           2.091794\n",
       "387895      XVR7H8003     1.0      0.0   0.693147           2.357885\n",
       "387896      XVR99K003    16.0      2.0   2.944439           2.122987\n",
       "\n",
       "[274271 rows x 5 columns]"
      ]
     },
     "execution_count": 70,
     "metadata": {},
     "output_type": "execute_result"
    }
   ],
   "source": [
    "citation_data"
   ]
  },
  {
   "cell_type": "code",
   "execution_count": null,
   "metadata": {},
   "outputs": [],
   "source": []
  }
 ],
 "metadata": {
  "kernelspec": {
   "display_name": "Python 3",
   "language": "python",
   "name": "python3"
  },
  "language_info": {
   "codemirror_mode": {
    "name": "ipython",
    "version": 3
   },
   "file_extension": ".py",
   "mimetype": "text/x-python",
   "name": "python",
   "nbconvert_exporter": "python",
   "pygments_lexer": "ipython3",
   "version": "3.7.2"
  }
 },
 "nbformat": 4,
 "nbformat_minor": 2
}
