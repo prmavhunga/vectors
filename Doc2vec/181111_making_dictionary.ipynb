{
 "cells": [
  {
   "cell_type": "code",
   "execution_count": 1,
   "metadata": {},
   "outputs": [],
   "source": [
    "#!/usr/bin/env python3\n",
    "# -*- coding: utf-8 -*-\n",
    "\n",
    "import numpy as np\n",
    "import pickle as pk\n",
    "import os\n",
    "import pandas as pd\n",
    "from scipy.spatial.distance import cosine\n",
    "from gensim.models.doc2vec import Doc2Vec, TaggedDocument"
   ]
  },
  {
   "cell_type": "code",
   "execution_count": 2,
   "metadata": {},
   "outputs": [],
   "source": [
    "##changing working directory\n",
    "##importing the doc2vec model\n",
    "os.chdir('/home/jcai/geometry_of_law/data_and_dictionary')\n",
    "model = Doc2Vec.load('/home/jcai/geometry_of_law/doc2vec_v50k_d200_shuffled_opinion/ALL_opinion.d2v')"
   ]
  },
  {
   "cell_type": "code",
   "execution_count": 3,
   "metadata": {},
   "outputs": [],
   "source": [
    "set_of_doc_names = set(model.docvecs.doctags)"
   ]
  },
  {
   "cell_type": "code",
   "execution_count": 4,
   "metadata": {},
   "outputs": [],
   "source": [
    "##importing master_dataframe\n",
    "master_dataframe = pd.read_csv(\"/home/jcai/geometry_of_law/Encyclopedia Entry/master_dataframe.csv\")"
   ]
  },
  {
   "cell_type": "code",
   "execution_count": 5,
   "metadata": {},
   "outputs": [
    {
     "data": {
      "text/plain": [
       "(292765, 15)"
      ]
     },
     "execution_count": 5,
     "metadata": {},
     "output_type": "execute_result"
    }
   ],
   "source": [
    "master_dataframe.shape"
   ]
  },
  {
   "cell_type": "code",
   "execution_count": 6,
   "metadata": {},
   "outputs": [],
   "source": [
    "master_dataframe = master_dataframe[master_dataframe['docname'].isin(set_of_doc_names)]"
   ]
  },
  {
   "cell_type": "code",
   "execution_count": 7,
   "metadata": {},
   "outputs": [],
   "source": [
    "##defining function to return list of document name\n",
    "def return_list_of_docname(column, value):\n",
    "    '''returns the list of docname of the vectors whose column is value'''\n",
    "    list_of_docname = list(master_dataframe.loc[master_dataframe[column]==value]['docname'])\n",
    "    return list_of_docname"
   ]
  },
  {
   "cell_type": "code",
   "execution_count": 8,
   "metadata": {},
   "outputs": [],
   "source": [
    "##defining function to return the average vector\n",
    "def return_average_vector(list_of_docname):\n",
    "    '''returns the average vector for the given list of docname'''\n",
    "    list_of_vectors = [model[x] for x in list_of_docname]\n",
    "    mean = np.mean(list_of_vectors, axis=0)\n",
    "    return mean"
   ]
  },
  {
   "cell_type": "code",
   "execution_count": 9,
   "metadata": {},
   "outputs": [],
   "source": [
    "#the following is largely from \n",
    "#3.1.2 application 1 calculate average vector for each party\n",
    "#find the set of vectors (opinions) by a republican judge\n",
    "list_of_republican_docname = return_list_of_docname('party',\"Republican\")\n",
    "#find the average vectors of the list\n",
    "average_republican_vector = return_average_vector(list_of_republican_docname)\n",
    "#for each judge calculate average vector\n",
    "#find out the list of judges that has cases whose vectors we have already calculated\n",
    "#find the set of vectors (opinions) by a democrat judge\n",
    "list_of_democrat_docname = return_list_of_docname('party',\"Democratic\")\n",
    "#find the average vectors of the list\n",
    "average_democrat_vector = return_average_vector(list_of_democrat_docname)\n",
    "#for each judge calculate average vector\n",
    "#find out the list of judges that has cases whose vectors we have already calculated\n",
    "\n",
    "\n",
    "#3.1.3 application 2 calculate average vector for judge\n",
    "#find the set of docnames (opinions) by judge\n",
    "list_of_judges = list(master_dataframe['judge_name'].unique())\n",
    "list_list_of_docnames_judges = [return_list_of_docname(column = 'judge_name', value = x) for x in list_of_judges]\n",
    "judge_docname_list_dict = dict(zip(list_of_judges, list_list_of_docnames_judges))\n",
    "pk.dump(judge_docname_list_dict, open( \"judge_docname_list_dict.p\", \"wb\" ))\n",
    "#find the average vector by judge\n",
    "list_of_average_vectors_for_judges = list(map(return_average_vector, list_list_of_docnames_judges))\n",
    "#make a dictionary\n",
    "judge_average_dict = dict(zip(list_of_judges, list_of_average_vectors_for_judges))\n",
    "pk.dump(judge_average_dict, open( \"judge_average_dict.p\", \"wb\" ))\n",
    "\n",
    "#testing\n",
    "#for x in list(judge_average_dict.values()):\n",
    "#    if numpy.isnan(list(judge_average_dict.values())).any():\n",
    "#        print(x)\n",
    "#numpy.isnan(list(judge_average_dict.values())).any()\n",
    "\n",
    "\n",
    "#3.1.4 application 3 calculate average vector for circuit-year\n",
    "#find the set of docnames (opinions) by circuit-year\n",
    "list_of_CY = list(master_dataframe['circuit-year'].unique())\n",
    "list_list_of_docnames_CY = [return_list_of_docname(column = 'circuit-year', value = x) for x in list_of_CY]\n",
    "#find the average vector by CY\n",
    "list_of_average_vectors_for_CY = list(map(return_average_vector, list_list_of_docnames_CY))\n",
    "#make a dictionary\n",
    "CY_average_dict = dict(zip(list_of_CY, list_of_average_vectors_for_CY))\n",
    "pk.dump(CY_average_dict, open( \"CY_average_dict.p\", \"wb\" ))\n",
    "\n",
    "#numpy.isnan(list(CY_average_dict.values())).any()\n",
    "\n",
    "#3.1.5 application 4 calculate average vector for circuit-big-issue\n",
    "#find the set of docnames (opinions) \n",
    "master_dataframe['circuit-big-issue'] = [master_dataframe['circuit'][x]+'-'+ master_dataframe['big-issue'][x] for x in master_dataframe.index]\n",
    "list_of_CB = list(master_dataframe['circuit-big-issue'].unique())\n",
    "list_list_of_docnames_CB = [return_list_of_docname(column = 'circuit-big-issue', value = x) for x in list_of_CB]\n",
    "#find the average vector by CY\n",
    "list_of_average_vectors_for_CB = list(map(return_average_vector, list_list_of_docnames_CB))\n",
    "#make a dictionary\n",
    "CB_average_dict = dict(zip(list_of_CB, list_of_average_vectors_for_CB))\n",
    "pk.dump(CB_average_dict, open( \"CB_average_dict.p\", \"wb\" ))\n",
    "\n",
    "#3.1.6 application 5 calculate average vector for circuit-big-issue\n",
    "#find the set of docnames (opinions)\n",
    "master_dataframe['year-big-issue'] = [str(master_dataframe['year'][x])+'-'+ master_dataframe['big-issue'][x] for x in master_dataframe.index]\n",
    "list_of_YB = list(master_dataframe['year-big-issue'].unique())\n",
    "list_list_of_docnames_YB = [return_list_of_docname(column = 'year-big-issue', value = x) for x in list_of_YB]\n",
    "#find the average vector by YB\n",
    "list_of_average_vectors_for_YB = list(map(return_average_vector, list_list_of_docnames_YB))\n",
    "#make a dictionary\n",
    "YB_average_dict = dict(zip(list_of_YB, list_of_average_vectors_for_YB))\n",
    "pk.dump(YB_average_dict, open( \"YB_average_dict.p\", \"wb\" ))\n",
    "\n",
    "#3.1.6 application 6 calculate average vector for judge-year\n",
    "#find the set of docnames (opinions) by circuit-year\n",
    "master_dataframe['judge-year'] = [master_dataframe['judge_name'][x]+'-'+ str(master_dataframe['year'][x]) for x in master_dataframe.index]\n",
    "list_of_JY = list(master_dataframe['judge-year'].unique())\n",
    "list_list_of_docnames_JY = [return_list_of_docname(column = 'judge-year', value = x) for x in list_of_JY]\n",
    "#find the average vector by JY\n",
    "list_of_average_vectors_for_JY = list(map(return_average_vector, list_list_of_docnames_JY))\n",
    "#make a dictionary\n",
    "JY_average_dict = dict(zip(list_of_JY, list_of_average_vectors_for_JY))\n",
    "pk.dump(JY_average_dict, open( \"JY_average_dict.p\", \"wb\" ))\n",
    "\n",
    "#3.1.7 application 7 calculate average vector for circuit-big-issue-year\n",
    "#find the set of docnames (opinions) by circuit-big-issue-year\n",
    "master_dataframe['circuit-big-issue-year'] = [master_dataframe['circuit'][x]+'-'+ master_dataframe['big-issue'][x]+'-'+ str(master_dataframe['year'][x]) for x in master_dataframe.index]\n",
    "list_of_CBY = list(master_dataframe['circuit-big-issue-year'].unique())\n",
    "list_list_of_docnames_CBY = [return_list_of_docname(column = 'circuit-big-issue-year', value = x) for x in list_of_CBY]\n",
    "#find the average vector by JY\n",
    "list_of_average_vectors_for_CBY = list(map(return_average_vector, list_list_of_docnames_CBY))\n",
    "#make a dictionary\n",
    "CBY_average_dict = dict(zip(list_of_CBY, list_of_average_vectors_for_CBY))\n",
    "pk.dump(CBY_average_dict, open( \"CBY_average_dict.p\", \"wb\" ))\n",
    "\n",
    "#3.1.8 application 8 calculate average vector for year\n",
    "#find the set of docnames (opinions) by circuit-big-issue-year\n",
    "list_of_Y = list(master_dataframe['year'].unique())\n",
    "list_list_of_docnames_Y = [return_list_of_docname(column = 'year', value = x) for x in list_of_Y]\n",
    "#find the average vector by JY\n",
    "list_of_average_vectors_for_Y = list(map(return_average_vector, list_list_of_docnames_Y))\n",
    "#make a dictionary\n",
    "Y_average_dict = dict(zip(list(map(int,list_of_Y)), list_of_average_vectors_for_Y))\n",
    "pk.dump(Y_average_dict, open( \"Y_average_dict.p\", \"wb\" ))\n",
    "\n",
    "#3.1.9 application 9 calculate average vector for judge-decade\n",
    "#create a judge decade column\n",
    "master_dataframe['decade'] = [int(master_dataframe['year'][x]/10) for x in master_dataframe.index]\n",
    "master_dataframe['judge-decade'] = [str(master_dataframe['judge_name'][x])+'-'+ str(master_dataframe['decade'][x]) for x in master_dataframe.index]\n",
    "master_dataframe['court-decade'] = [master_dataframe['circuit'][x]+'-'+ str(master_dataframe['decade'][x]) for x in master_dataframe.index]\n",
    "\n",
    "#find the set of docnames (opinions) by judge-decade\n",
    "list_of_JD = list(master_dataframe['judge-decade'].unique())\n",
    "list_list_of_docnames_JD = [return_list_of_docname(column = 'judge-decade', value = x) for x in list_of_JD]\n",
    "#find the average vector by JD\n",
    "list_of_average_vectors_for_JD = list(map(return_average_vector, list_list_of_docnames_JD))\n",
    "#make a dictionary\n",
    "JD_average_dict = dict(zip(list_of_JD, list_of_average_vectors_for_JD))\n",
    "pk.dump(JD_average_dict, open( \"JD_average_dict.p\", \"wb\" ))\n",
    "\n",
    "#3.1.10 application 10 calculate average vector for court-decade\n",
    "#find the set of docnames (opinions) by Court decade\n",
    "list_of_CD = list(master_dataframe['court-decade'].unique())\n",
    "list_list_of_docnames_CD = [return_list_of_docname(column = 'court-decade', value = x) for x in list_of_CD]\n",
    "#find the average vector by JD\n",
    "list_of_average_vectors_for_CD = list(map(return_average_vector, list_list_of_docnames_CD))\n",
    "#make a dictionary\n",
    "CD_average_dict = dict(zip(list_of_CD, list_of_average_vectors_for_CD))\n",
    "pk.dump(CD_average_dict, open( \"CD_average_dict.p\", \"wb\" ))\n",
    "\n",
    "#3.1.11 application 11 calculate average vector for court\n",
    "#find the set of docnames (opinions) by Court decade\n",
    "list_of_C = list(master_dataframe['circuit'].unique())\n",
    "list_list_of_docnames_C = [return_list_of_docname(column = 'circuit', value = x) for x in list_of_C]\n",
    "#find the average vector by C\n",
    "list_of_average_vectors_for_C = list(map(return_average_vector, list_list_of_docnames_C))\n",
    "#make a dictionary\n",
    "C_average_dict = dict(zip(list_of_C, list_of_average_vectors_for_C))\n",
    "pk.dump(C_average_dict, open( \"C_average_dict.p\", \"wb\" ))"
   ]
  },
  {
   "cell_type": "code",
   "execution_count": null,
   "metadata": {},
   "outputs": [],
   "source": []
  }
 ],
 "metadata": {
  "kernelspec": {
   "display_name": "Python 3",
   "language": "python",
   "name": "python3"
  },
  "language_info": {
   "codemirror_mode": {
    "name": "ipython",
    "version": 3
   },
   "file_extension": ".py",
   "mimetype": "text/x-python",
   "name": "python",
   "nbconvert_exporter": "python",
   "pygments_lexer": "ipython3",
   "version": "3.7.1"
  }
 },
 "nbformat": 4,
 "nbformat_minor": 2
}
