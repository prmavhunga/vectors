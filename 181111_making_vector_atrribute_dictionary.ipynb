{
 "cells": [
  {
   "cell_type": "code",
   "execution_count": 1,
   "metadata": {},
   "outputs": [],
   "source": [
    "#!/usr/bin/env python3\n",
    "# -*- coding: utf-8 -*-\n",
    "\n",
    "import numpy as np\n",
    "import pickle as pk\n",
    "import os\n",
    "import pandas as pd\n",
    "from scipy.spatial.distance import cosine\n",
    "from gensim.models.doc2vec import Doc2Vec, TaggedDocument"
   ]
  },
  {
   "cell_type": "code",
   "execution_count": 2,
   "metadata": {},
   "outputs": [],
   "source": [
    "##changing working directory\n",
    "##importing the doc2vec model\n",
    "os.chdir('/home/jcai/geometry_of_law/data_and_dictionary')\n",
    "model = Doc2Vec.load('/home/jcai/geometry_of_law/doc2vec_v50k_d200_shuffled_opinion/ALL_opinion.d2v')"
   ]
  },
  {
   "cell_type": "code",
   "execution_count": 3,
   "metadata": {},
   "outputs": [],
   "source": [
    "set_of_doc_names = set(model.docvecs.doctags)"
   ]
  },
  {
   "cell_type": "code",
   "execution_count": 64,
   "metadata": {},
   "outputs": [],
   "source": [
    "##importing master_dataframe\n",
    "master_dataframe = pd.read_csv(\"/home/jcai/geometry_of_law/Encyclopedia Entry/master_dataframe.csv\")"
   ]
  },
  {
   "cell_type": "code",
   "execution_count": 65,
   "metadata": {},
   "outputs": [],
   "source": [
    "#create dictionary for each categorical variable\n",
    "##y_dict is special\n",
    "y_dict_values = [int(x) for x in master_dataframe['year']]\n",
    "Y_dict = dict(zip(master_dataframe['docname'],y_dict_values))\n",
    "CBY_dict = dict(zip(master_dataframe['docname'],master_dataframe['circuit-big-issue-year']))\n",
    "JY_dict = dict(zip(master_dataframe['docname'],master_dataframe['judge-year']))\n",
    "YB_dict = dict(zip(master_dataframe['docname'],master_dataframe['year-big-issue']))\n",
    "CB_dict = dict(zip(master_dataframe['docname'],master_dataframe['circuit-big-issue']))\n",
    "CY_dict = dict(zip(master_dataframe['docname'],master_dataframe['circuit-year']))\n",
    "JD_dict = dict(zip(master_dataframe['docname'],master_dataframe['judge-decade']))\n",
    "CD_dict = dict(zip(master_dataframe['docname'],master_dataframe['court-decade']))\n",
    "C_dict = dict(zip(master_dataframe['docname'],master_dataframe['circuit']))"
   ]
  },
  {
   "cell_type": "code",
   "execution_count": 66,
   "metadata": {},
   "outputs": [],
   "source": [
    "attr_dict = [Y_dict, CBY_dict, JY_dict, YB_dict, CB_dict, \n",
    "             CY_dict, JD_dict, CD_dict, C_dict]"
   ]
  },
  {
   "cell_type": "code",
   "execution_count": 67,
   "metadata": {},
   "outputs": [],
   "source": [
    "dict_names = [\"Y_dict\", \"CBY_dict\", \"JY_dict\", \"YB_dict\", \"CB_dict\", \n",
    "             \"CY_dict\", \"JD_dict\", \"CD_dict\", \"C_dict\"]"
   ]
  },
  {
   "cell_type": "code",
   "execution_count": 68,
   "metadata": {},
   "outputs": [
    {
     "name": "stdout",
     "output_type": "stream",
     "text": [
      "Y_dict.p\n",
      "CBY_dict.p\n",
      "JY_dict.p\n",
      "YB_dict.p\n",
      "CB_dict.p\n",
      "CY_dict.p\n",
      "JD_dict.p\n",
      "CD_dict.p\n",
      "C_dict.p\n"
     ]
    }
   ],
   "source": [
    "##pickling the attribute dicts\n",
    "for x in range(len(attr_dict)):\n",
    "    pk.dump(attr_dict[x], open(dict_names[x]+\".p\", \"wb\" ))\n",
    "    print(dict_names[x]+\".p\")"
   ]
  }
 ],
 "metadata": {
  "kernelspec": {
   "display_name": "Python 3",
   "language": "python",
   "name": "python3"
  },
  "language_info": {
   "codemirror_mode": {
    "name": "ipython",
    "version": 3
   },
   "file_extension": ".py",
   "mimetype": "text/x-python",
   "name": "python",
   "nbconvert_exporter": "python",
   "pygments_lexer": "ipython3",
   "version": "3.7.1"
  }
 },
 "nbformat": 4,
 "nbformat_minor": 2
}
