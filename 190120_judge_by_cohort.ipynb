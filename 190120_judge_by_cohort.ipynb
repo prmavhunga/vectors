{
 "cells": [
  {
   "cell_type": "code",
   "execution_count": 11,
   "metadata": {},
   "outputs": [],
   "source": [
    "import numpy\n",
    "import pickle as pk\n",
    "import os\n",
    "import pandas as pd\n",
    "import numpy as np\n",
    "from gensim.models.doc2vec import Doc2Vec\n",
    "from sklearn.decomposition import PCA\n",
    "from sklearn.manifold import TSNE"
   ]
  },
  {
   "cell_type": "code",
   "execution_count": 2,
   "metadata": {},
   "outputs": [],
   "source": [
    "os.chdir('/home/jcai/geometry_of_law/data_and_dictionary')"
   ]
  },
  {
   "cell_type": "code",
   "execution_count": 3,
   "metadata": {},
   "outputs": [],
   "source": [
    "master_dataframe = pd.read_csv(\"/home/jcai/geometry_of_law/Encyclopedia Entry/master_dataframe.csv\")"
   ]
  },
  {
   "cell_type": "code",
   "execution_count": 4,
   "metadata": {},
   "outputs": [],
   "source": [
    "#loading\n",
    "#Y_average_dict = pk.load(open( \"Y_average_dict.p\", \"rb\" ))\n",
    "#CBY_average_dict = pk.load(open( \"CBY_average_dict.p\", \"rb\" ))\n",
    "#JY_average_dict = pk.load(open( \"JY_average_dict.p\", \"rb\" ))\n",
    "#YB_average_dict = pk.load(open( \"YB_average_dict.p\", \"rb\" ))\n",
    "CB_average_dict = pk.load(open( \"CB_average_dict.p\", \"rb\" ))\n",
    "#CY_average_dict = pk.load(open( \"CY_average_dict.p\", \"rb\" ))\n",
    "#JD_average_dict = pk.load(open( \"JD_average_dict.p\", \"rb\" ))\n",
    "#CD_average_dict = pk.load(open( \"CD_average_dict.p\", \"rb\" ))\n",
    "#C_average_dict = pk.load(open( \"C_average_dict.p\", \"rb\" ))\n",
    "#judge_average_dict = pk.load(open( \"judge_average_dict.p\", \"rb\" ))"
   ]
  },
  {
   "cell_type": "code",
   "execution_count": 5,
   "metadata": {},
   "outputs": [],
   "source": [
    "#Y_dict = pk.load(open( \"Y_dict.p\", \"rb\" ))\n",
    "#CBY_dict = pk.load(open( \"CBY_dict.p\", \"rb\" ))\n",
    "#JY_dict = pk.load(open( \"JY_dict.p\", \"rb\" ))\n",
    "#YB_dict = pk.load(open( \"YB_dict.p\", \"rb\" ))\n",
    "CB_dict = pk.load(open( \"CB_dict.p\", \"rb\" ))\n",
    "#CY_dict = pk.load(open( \"CY_dict.p\", \"rb\" ))\n",
    "#JD_dict = pk.load(open( \"JD_dict.p\", \"rb\" ))\n",
    "#CD_dict = pk.load(open( \"CD_dict.p\", \"rb\" ))\n",
    "#C_dict = pk.load(open( \"C_dict.p\", \"rb\" ))\n",
    "docname_vector_dict = pk.load(open( \"docname_vector_dict.p\", \"rb\" ))\n",
    "#judge_docname_list_dict = pk.load(open( \"judge_docname_list_dict.p\", \"rb\" ))"
   ]
  },
  {
   "cell_type": "code",
   "execution_count": 21,
   "metadata": {},
   "outputs": [],
   "source": [
    "#helper\n",
    "def return_average_vector(list_of_docname):\n",
    "    '''returns the average vector for the given list of docname'''\n",
    "    list_of_vectors = [docname_vector_dict[x] for x in list_of_docname]\n",
    "    mean = np.mean(list_of_vectors, axis=0)\n",
    "    return mean\n",
    "\n",
    "def return_average_demeaned_vector(list_of_docname,mean_dict,item_dict):\n",
    "    '''returns the average demeaned vector for the given list of docname'''\n",
    "    '''list_dict: item to list; mean_dict: item to mean vector; returns a demeaned dictionary'''\n",
    "    list_of_vectors = [docname_vector_dict[x] - mean_dict[item_dict[x]]  for x in list_of_docname]\n",
    "    mean = np.mean(list_of_vectors, axis=0)\n",
    "    return mean\n",
    "\n",
    "def run_PCA_tSNE(X,PCA_components,TSNE_components):\n",
    "    '''returns a data frame with 2 columns that has been PCA and tsned'''\n",
    "    pca = PCA(n_components=PCA_components)\n",
    "    pca_result = pca.fit_transform(X)\n",
    "    #scaler = StandardScaler()\n",
    "    #df_pca_result_fit_transform = scaler.fit_transform(pca_result)\n",
    "    tsne = TSNE(n_components=TSNE_components) \n",
    "    tsne_results = tsne.fit_transform(pca_result) #used to be df_pca_result_fit_transform\n",
    "    df_tsne = pd.DataFrame(tsne_results)\n",
    "    return df_tsne\n",
    "\n",
    "def return_list_of_docname(column, value):\n",
    "    '''returns the list of docname of the vectors whose column is value'''\n",
    "    list_of_docname = list(master_dataframe.loc[master_dataframe[column]==value]['docname'])\n",
    "    return list_of_docname"
   ]
  },
  {
   "cell_type": "code",
   "execution_count": 18,
   "metadata": {},
   "outputs": [],
   "source": [
    "#find the set of docnames (opinions) by judge-decade\n",
    "list_of_judges = list(master_dataframe['judge_name'].unique())\n",
    "list_list_of_docnames_judges = [return_list_of_docname(column = 'judge_name', value = x) for x in list_of_judges]"
   ]
  },
  {
   "cell_type": "code",
   "execution_count": 22,
   "metadata": {},
   "outputs": [],
   "source": [
    "judge_data = pd.read_csv('judge_data.csv')\n",
    "CB_demeaned_vectors_for_judges = [return_average_demeaned_vector(list_of_docname = x,mean_dict=CB_average_dict,item_dict=CB_dict) for x in list_list_of_docnames_judges]\n",
    "#make a dictionary\n",
    "CB_demeaned_vectors_for_judges_dict = dict(zip(list_of_judges, CB_demeaned_vectors_for_judges))\n",
    "#save and export\n",
    "X = pd.DataFrame.from_dict(CB_demeaned_vectors_for_judges_dict, orient='index')\n",
    "#numpy.isnan(X1).any()\n",
    "#numpy.isfinite(X1).all()\n",
    "df_tsne = run_PCA_tSNE(X,50,2)\n",
    "#rename columns\n",
    "col_names = list(df_tsne.columns)\n",
    "col_names[0] = 'x'\n",
    "col_names[1] = 'y'\n",
    "df_tsne.columns = col_names\n",
    "#here we merge and save dataframes\n",
    "CB_demeaned_vectors_for_judges = pd.merge(df_tsne, judge_data,left_index=True, right_index=True)\n",
    "CB_demeaned_vectors_for_judges.to_csv('CB_demeaned_vectors_for_judges.csv',index=False)"
   ]
  },
  {
   "cell_type": "code",
   "execution_count": null,
   "metadata": {},
   "outputs": [],
   "source": []
  }
 ],
 "metadata": {
  "kernelspec": {
   "display_name": "Python 3",
   "language": "python",
   "name": "python3"
  },
  "language_info": {
   "codemirror_mode": {
    "name": "ipython",
    "version": 3
   },
   "file_extension": ".py",
   "mimetype": "text/x-python",
   "name": "python",
   "nbconvert_exporter": "python",
   "pygments_lexer": "ipython3",
   "version": "3.7.2"
  }
 },
 "nbformat": 4,
 "nbformat_minor": 2
}
