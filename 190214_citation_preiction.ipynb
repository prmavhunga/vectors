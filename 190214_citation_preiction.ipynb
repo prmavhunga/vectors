{
 "cells": [
  {
   "cell_type": "code",
   "execution_count": 1,
   "metadata": {},
   "outputs": [],
   "source": [
    "import numpy\n",
    "import pickle as pk\n",
    "import os\n",
    "import pandas as pd\n",
    "import numpy as np\n",
    "from sklearn.decomposition import PCA\n",
    "from sklearn.manifold import TSNE\n",
    "from scipy.spatial.distance import cosine\n",
    "from gensim.models.doc2vec import Doc2Vec, TaggedDocument"
   ]
  },
  {
   "cell_type": "code",
   "execution_count": 2,
   "metadata": {},
   "outputs": [],
   "source": [
    "os.chdir('/home/jcai/geometry_of_law/data_and_dictionary')"
   ]
  },
  {
   "cell_type": "code",
   "execution_count": 3,
   "metadata": {},
   "outputs": [],
   "source": [
    "citation_data = pd.read_stata('/home/jcai/geometry_of_law/data_and_dictionary/caseid_citecounts.dta')"
   ]
  },
  {
   "cell_type": "code",
   "execution_count": 4,
   "metadata": {},
   "outputs": [],
   "source": [
    "citation_data = citation_data.dropna()"
   ]
  },
  {
   "cell_type": "code",
   "execution_count": 5,
   "metadata": {},
   "outputs": [],
   "source": [
    "citation_data[\"logcounts\"] = [np.log(1+citation_data[\"within\"][i]+citation_data[\"outside\"][i]) for i in citation_data.index]"
   ]
  },
  {
   "cell_type": "markdown",
   "metadata": {},
   "source": [
    "# build a data frame of caseid-citecount-docvector"
   ]
  },
  {
   "cell_type": "code",
   "execution_count": 6,
   "metadata": {},
   "outputs": [],
   "source": [
    "model = Doc2Vec.load('/home/jcai/geometry_of_law/doc2vec_v50k_d200_shuffled_opinion/ALL_opinion.d2v')\n",
    "set_of_doc_names = set(model.docvecs.doctags)"
   ]
  },
  {
   "cell_type": "code",
   "execution_count": 7,
   "metadata": {},
   "outputs": [],
   "source": [
    "master_dataframe = pd.read_csv(\"/home/jcai/geometry_of_law/Encyclopedia Entry/master_dataframe.csv\")"
   ]
  },
  {
   "cell_type": "code",
   "execution_count": 8,
   "metadata": {},
   "outputs": [],
   "source": [
    "master_dataframe[\"caseid\"] = [x.split(\"_\")[0] for x in master_dataframe.copy()['docname']]"
   ]
  },
  {
   "cell_type": "code",
   "execution_count": 9,
   "metadata": {},
   "outputs": [
    {
     "data": {
      "text/plain": [
       "(292765, 16)"
      ]
     },
     "execution_count": 9,
     "metadata": {},
     "output_type": "execute_result"
    }
   ],
   "source": [
    "master_dataframe.shape"
   ]
  },
  {
   "cell_type": "code",
   "execution_count": 10,
   "metadata": {},
   "outputs": [],
   "source": [
    "master_dataframe = master_dataframe[master_dataframe['docname'].isin(set_of_doc_names)]"
   ]
  },
  {
   "cell_type": "code",
   "execution_count": 11,
   "metadata": {},
   "outputs": [],
   "source": [
    "citation_data = citation_data[citation_data[\"caseid\"].isin(set(master_dataframe['caseid'].values))]"
   ]
  },
  {
   "cell_type": "code",
   "execution_count": 12,
   "metadata": {},
   "outputs": [],
   "source": [
    "gb_caseid = master_dataframe.groupby(\"caseid\")"
   ]
  },
  {
   "cell_type": "code",
   "execution_count": 14,
   "metadata": {},
   "outputs": [],
   "source": [
    "def return_mean_d2v(caseid):\n",
    "    doc_names = gb_caseid.get_group(caseid)[\"docname\"].values\n",
    "    return np.mean([model[i] for i in doc_names],axis=0)"
   ]
  },
  {
   "cell_type": "code",
   "execution_count": 19,
   "metadata": {},
   "outputs": [],
   "source": [
    "CBY_average_dict = pk.load(open(\"CBY_average_dict.p\",\"rb\"))"
   ]
  },
  {
   "cell_type": "code",
   "execution_count": 49,
   "metadata": {},
   "outputs": [],
   "source": [
    "CY_average_dict = pk.load(open(\"CY_average_dict.p\",\"rb\"))"
   ]
  },
  {
   "cell_type": "code",
   "execution_count": 68,
   "metadata": {},
   "outputs": [],
   "source": [
    "def return_demean_mean_d2v(caseid):\n",
    "    doc_names = gb_caseid.get_group(caseid)[\"docname\"].values\n",
    "    cy = gb_caseid.get_group(caseid)[\"circuit-year\"].values\n",
    "    v_list = [model[doc_names[i]] - CY_average_dict[cy[i]] for i in range(len(doc_names))]\n",
    "    return np.mean(v_list,axis=0)"
   ]
  },
  {
   "cell_type": "code",
   "execution_count": 23,
   "metadata": {},
   "outputs": [],
   "source": [
    "citation_data['d2v'] = [return_mean_d2v(citation_data['caseid'][i]) for i in citation_data.index]"
   ]
  },
  {
   "cell_type": "code",
   "execution_count": 69,
   "metadata": {},
   "outputs": [],
   "source": [
    "citation_data['d2v_dm'] = [return_demean_mean_d2v(citation_data['caseid'][i]) for i in citation_data.index]"
   ]
  },
  {
   "cell_type": "code",
   "execution_count": 70,
   "metadata": {},
   "outputs": [],
   "source": [
    "citation_data = citation_data.dropna()"
   ]
  },
  {
   "cell_type": "markdown",
   "metadata": {},
   "source": [
    "# build features"
   ]
  },
  {
   "cell_type": "code",
   "execution_count": 71,
   "metadata": {},
   "outputs": [],
   "source": [
    "from sklearn.feature_extraction import DictVectorizer\n",
    "from sklearn.model_selection import train_test_split\n",
    "from sklearn.feature_extraction.text import TfidfTransformer"
   ]
  },
  {
   "cell_type": "code",
   "execution_count": 79,
   "metadata": {},
   "outputs": [],
   "source": [
    "d2v_X = np.asarray(list(citation_data[\"d2v\"]))"
   ]
  },
  {
   "cell_type": "code",
   "execution_count": 80,
   "metadata": {},
   "outputs": [],
   "source": [
    "y = citation_data[\"logcounts\"]"
   ]
  },
  {
   "cell_type": "markdown",
   "metadata": {},
   "source": [
    "## Train-test split"
   ]
  },
  {
   "cell_type": "code",
   "execution_count": 81,
   "metadata": {},
   "outputs": [],
   "source": [
    "d2v_X_train, d2v_X_test, y_train, y_test = train_test_split(d2v_X, y, test_size=0.2)"
   ]
  },
  {
   "cell_type": "markdown",
   "metadata": {},
   "source": [
    "## some linear models"
   ]
  },
  {
   "cell_type": "markdown",
   "metadata": {},
   "source": [
    "## Linear Regression"
   ]
  },
  {
   "cell_type": "code",
   "execution_count": 82,
   "metadata": {},
   "outputs": [],
   "source": [
    "from sklearn.metrics import explained_variance_score"
   ]
  },
  {
   "cell_type": "code",
   "execution_count": 83,
   "metadata": {},
   "outputs": [],
   "source": [
    "from sklearn.linear_model import LinearRegression"
   ]
  },
  {
   "cell_type": "code",
   "execution_count": 84,
   "metadata": {},
   "outputs": [],
   "source": [
    "LR = LinearRegression(fit_intercept=False, normalize=False)"
   ]
  },
  {
   "cell_type": "code",
   "execution_count": 85,
   "metadata": {},
   "outputs": [
    {
     "name": "stdout",
     "output_type": "stream",
     "text": [
      "The training R2 is 0.23088813479493653\n",
      "The test R2 is 0.23256790152927245\n",
      "The explained variance is 0.23275066713627213\n"
     ]
    }
   ],
   "source": [
    "LR_reg = LR.fit(d2v_X_train, y_train)\n",
    "print('The training R2 is', LR_reg.score(d2v_X_train, y_train))\n",
    "print('The test R2 is', LR_reg.score(d2v_X_test, y_test))\n",
    "print('The explained variance is', explained_variance_score(y_test, LR_reg.predict(d2v_X_test)))"
   ]
  },
  {
   "cell_type": "markdown",
   "metadata": {},
   "source": [
    "## Elasticnet with CV"
   ]
  },
  {
   "cell_type": "code",
   "execution_count": 86,
   "metadata": {},
   "outputs": [],
   "source": [
    "from sklearn.linear_model import ElasticNetCV"
   ]
  },
  {
   "cell_type": "code",
   "execution_count": 87,
   "metadata": {},
   "outputs": [],
   "source": [
    "elastic = ElasticNetCV(random_state=0,l1_ratio=[.01, .5, .7, .95, .99],fit_intercept=True)"
   ]
  },
  {
   "cell_type": "code",
   "execution_count": 88,
   "metadata": {},
   "outputs": [
    {
     "name": "stdout",
     "output_type": "stream",
     "text": [
      "The training R2 is 0.23988931915602107\n",
      "The test R2 is 0.24189872324905223\n",
      "The explained variance is 0.24192301405309102\n"
     ]
    }
   ],
   "source": [
    "elastic_reg = elastic.fit(d2v_X_train, y_train)\n",
    "print('The training R2 is', elastic_reg.score(d2v_X_train, y_train))\n",
    "print('The test R2 is', elastic_reg.score(d2v_X_test, y_test))\n",
    "print('The explained variance is', explained_variance_score(y_test, elastic_reg.predict(d2v_X_test)))"
   ]
  },
  {
   "cell_type": "code",
   "execution_count": 89,
   "metadata": {},
   "outputs": [
    {
     "name": "stdout",
     "output_type": "stream",
     "text": [
      "The L1 panelty is 0.99\n"
     ]
    }
   ],
   "source": [
    "print('The L1 panelty is', elastic_reg.l1_ratio_)"
   ]
  },
  {
   "cell_type": "markdown",
   "metadata": {},
   "source": [
    "## Lasso"
   ]
  },
  {
   "cell_type": "code",
   "execution_count": 90,
   "metadata": {},
   "outputs": [],
   "source": [
    "from sklearn.linear_model import Lasso"
   ]
  },
  {
   "cell_type": "code",
   "execution_count": 91,
   "metadata": {},
   "outputs": [],
   "source": [
    "lasso = Lasso(alpha=1.0,fit_intercept=True)"
   ]
  },
  {
   "cell_type": "code",
   "execution_count": 92,
   "metadata": {},
   "outputs": [
    {
     "name": "stdout",
     "output_type": "stream",
     "text": [
      "The training R2 is 1.1102230246251565e-16\n",
      "The test R2 is -4.8963091789477886e-05\n",
      "The explained variance is 0.0\n"
     ]
    }
   ],
   "source": [
    "lasso_reg = lasso.fit(d2v_X_train, y_train)\n",
    "print('The training R2 is', lasso.score(d2v_X_train, y_train))\n",
    "print('The test R2 is', lasso.score(d2v_X_test, y_test))\n",
    "print('The explained variance is', explained_variance_score(y_test, lasso.predict(d2v_X_test)))"
   ]
  },
  {
   "cell_type": "code",
   "execution_count": 93,
   "metadata": {},
   "outputs": [],
   "source": [
    "from math import exp"
   ]
  },
  {
   "cell_type": "code",
   "execution_count": 94,
   "metadata": {},
   "outputs": [
    {
     "name": "stdout",
     "output_type": "stream",
     "text": [
      " \n",
      "The alpha is  4.5399929762484854e-05\n",
      "The training R2 is 0.23990952601238993\n",
      "The test R2 is 0.2419145343591822\n",
      "The explained variance is 0.24193853381805597\n",
      " \n",
      "The alpha is  0.00012340980408667956\n",
      "The training R2 is 0.2399003954185679\n",
      "The test R2 is 0.24190797036523237\n",
      "The explained variance is 0.24193214227924864\n",
      " \n",
      "The alpha is  0.00033546262790251185\n",
      "The training R2 is 0.23983693313127397\n",
      "The test R2 is 0.2418575475909156\n",
      "The explained variance is 0.2418821796796442\n",
      " \n",
      "The alpha is  0.0009118819655545162\n",
      "The training R2 is 0.23943589765333873\n",
      "The test R2 is 0.24150919545103322\n",
      "The explained variance is 0.24153503346061211\n",
      " \n",
      "The alpha is  0.0024787521766663585\n",
      "The training R2 is 0.23747237493389928\n",
      "The test R2 is 0.23950334370615978\n",
      "The explained variance is 0.23953098142576068\n",
      " \n",
      "The alpha is  0.006737946999085467\n",
      "The training R2 is 0.2290857398338986\n",
      "The test R2 is 0.23059167127714705\n",
      "The explained variance is 0.23062165701690862\n",
      " \n",
      "The alpha is  0.01831563888873418\n",
      "The training R2 is 0.19775278004265018\n",
      "The test R2 is 0.19879449611932687\n",
      "The explained variance is 0.1988308412772568\n",
      " \n",
      "The alpha is  0.049787068367863944\n",
      "The training R2 is 0.13193623196619597\n",
      "The test R2 is 0.13294792123371624\n",
      "The explained variance is 0.13299803433993074\n",
      " \n",
      "The alpha is  0.1353352832366127\n",
      "The training R2 is 0.018688242095705854\n",
      "The test R2 is 0.018507387229588113\n",
      "The explained variance is 0.018556109010016253\n",
      " \n",
      "The alpha is  0.36787944117144233\n",
      "The training R2 is 1.1102230246251565e-16\n",
      "The test R2 is -4.8963091789477886e-05\n",
      "The explained variance is 0.0\n",
      " \n",
      "The alpha is  1.0\n",
      "The training R2 is 1.1102230246251565e-16\n",
      "The test R2 is -4.8963091789477886e-05\n",
      "The explained variance is 0.0\n"
     ]
    }
   ],
   "source": [
    "for alpha in [exp(i) for i in range(-10,1)]:\n",
    "    print(\" \")\n",
    "    print(\"The alpha is \", alpha)\n",
    "    lasso = Lasso(alpha=alpha,fit_intercept=True,max_iter=10000)\n",
    "    lasso_reg = lasso.fit(d2v_X_train, y_train)\n",
    "    print('The training R2 is', lasso.score(d2v_X_train, y_train))\n",
    "    print('The test R2 is', lasso.score(d2v_X_test, y_test))\n",
    "    print('The explained variance is', explained_variance_score(y_test, lasso.predict(d2v_X_test)))"
   ]
  },
  {
   "cell_type": "markdown",
   "metadata": {},
   "source": [
    "## non-linear models"
   ]
  },
  {
   "cell_type": "code",
   "execution_count": 95,
   "metadata": {},
   "outputs": [],
   "source": [
    "#from sklearn.neighbors import KNeighborsRegressor"
   ]
  },
  {
   "cell_type": "code",
   "execution_count": 96,
   "metadata": {},
   "outputs": [],
   "source": [
    "#for n in [8,9,10,11,12,13,14]:\n",
    "#    print(\"n = \",n)\n",
    "#    knn = KNeighborsRegressor(n_neighbors=n)\n",
    "#    knn_reg = knn.fit(d2v_X_train,y_train)\n",
    "#    print('The training R2 is', knn_reg.score(d2v_X_train, y_train))\n",
    "#    print('The test R2 is', knn_reg.score(d2v_X_test, y_test))\n",
    "#    print('The explained variance is', explained_variance_score(y_test, knn_reg.predict(d2v_X_test)))"
   ]
  },
  {
   "cell_type": "markdown",
   "metadata": {},
   "source": [
    "## trees and forests"
   ]
  },
  {
   "cell_type": "code",
   "execution_count": 97,
   "metadata": {},
   "outputs": [],
   "source": [
    "from sklearn.model_selection import ParameterGrid,GridSearchCV"
   ]
  },
  {
   "cell_type": "markdown",
   "metadata": {},
   "source": [
    "## Gradient Boosting"
   ]
  },
  {
   "cell_type": "code",
   "execution_count": 98,
   "metadata": {},
   "outputs": [
    {
     "name": "stderr",
     "output_type": "stream",
     "text": [
      "/opt/anaconda/lib/python3.7/site-packages/sklearn/ensemble/weight_boosting.py:29: DeprecationWarning: numpy.core.umath_tests is an internal NumPy module and should not be imported. It will be removed in a future NumPy release.\n",
      "  from numpy.core.umath_tests import inner1d\n"
     ]
    }
   ],
   "source": [
    "from sklearn.ensemble import GradientBoostingRegressor"
   ]
  },
  {
   "cell_type": "code",
   "execution_count": 99,
   "metadata": {},
   "outputs": [
    {
     "name": "stdout",
     "output_type": "stream",
     "text": [
      "The training R2 is 0.20992187024656095\n",
      "The test R2 is 0.19845500041478037\n",
      "The explained variance is 0.19849513356811954\n"
     ]
    }
   ],
   "source": [
    "gdb = GradientBoostingRegressor()\n",
    "gdb_reg = gdb.fit(d2v_X_train, y_train)\n",
    "print('The training R2 is', gdb_reg.score(d2v_X_train, y_train))\n",
    "print('The test R2 is', gdb_reg.score(d2v_X_test, y_test))\n",
    "print('The explained variance is', explained_variance_score(y_test, gdb_reg.predict(d2v_X_test)))"
   ]
  },
  {
   "cell_type": "code",
   "execution_count": null,
   "metadata": {},
   "outputs": [],
   "source": [
    "param_vals = {'max_depth': [2, 5, 10], \"n_estimators\": [50,100,200], \"learning_rate\" : [0.01, 0.05, 0.1]}\n",
    "gdb = GradientBoostingRegressor()\n",
    "gdb_grid_cv = GridSearchCV(gdb, param_vals)\n",
    "\n",
    "gdb_grid_cv_reg = gdb_grid_cv.fit(d2v_X_train, y_train)\n",
    "print('The training R2 is', gdb_grid_cv_reg.score(d2v_X_train, y_train))\n",
    "print('The test R2 is', gdb_grid_cv_reg.score(d2v_X_test, y_test))\n",
    "print('The explained variance is', explained_variance_score(y_test, gdb_grid_cv_reg.predict(d2v_X_test)))"
   ]
  },
  {
   "cell_type": "code",
   "execution_count": null,
   "metadata": {},
   "outputs": [],
   "source": [
    "gdb_grid_cv_reg.best_estimator_"
   ]
  },
  {
   "cell_type": "markdown",
   "metadata": {},
   "source": [
    "## a neural network"
   ]
  },
  {
   "cell_type": "code",
   "execution_count": 101,
   "metadata": {},
   "outputs": [
    {
     "name": "stderr",
     "output_type": "stream",
     "text": [
      "Using TensorFlow backend.\n"
     ]
    }
   ],
   "source": [
    "from keras.models import Sequential\n",
    "from keras.layers import Dense, Activation, Dropout, AveragePooling1D"
   ]
  },
  {
   "cell_type": "code",
   "execution_count": 102,
   "metadata": {},
   "outputs": [
    {
     "name": "stdout",
     "output_type": "stream",
     "text": [
      "WARNING:tensorflow:From /home/jcai/.local/lib/python3.7/site-packages/tensorflow/python/framework/op_def_library.py:263: colocate_with (from tensorflow.python.framework.ops) is deprecated and will be removed in a future version.\n",
      "Instructions for updating:\n",
      "Colocations handled automatically by placer.\n",
      "WARNING:tensorflow:From /home/jcai/.local/lib/python3.7/site-packages/keras/backend/tensorflow_backend.py:3445: calling dropout (from tensorflow.python.ops.nn_ops) with keep_prob is deprecated and will be removed in a future version.\n",
      "Instructions for updating:\n",
      "Please use `rate` instead of `keep_prob`. Rate should be set to `rate = 1 - keep_prob`.\n"
     ]
    }
   ],
   "source": [
    "model = Sequential()\n",
    "model.add(Dense(128, input_dim=200,activation='relu'))\n",
    "model.add(Dense(128,activation='relu'))\n",
    "model.add(Dense(128,activation='relu'))\n",
    "model.add(Dense(128,activation='relu'))\n",
    "model.add(Dropout(rate = 0.05))\n",
    "model.add(Dense(128,activation='relu'))\n",
    "model.add(Dense(128,activation='relu'))\n",
    "model.add(Dense(128,activation='relu'))\n",
    "model.add(Dropout(rate = 0.05))\n",
    "model.add(Dense(128,activation='relu'))\n",
    "model.add(Dense(128,activation='relu'))\n",
    "model.add(Dense(128,activation='relu'))\n",
    "model.add(Dropout(rate = 0.05))\n",
    "model.add(Dense(128,activation='relu'))\n",
    "model.add(Dense(128,activation='relu'))\n",
    "model.add(Dense(128,activation='relu'))\n",
    "model.add(Dropout(rate = 0.05))\n",
    "model.add(Dense(128,activation='relu'))\n",
    "model.add(Dense(128,activation='relu'))\n",
    "model.add(Dense(128,activation='relu'))\n",
    "model.add(Dropout(rate = 0.05))\n",
    "model.add(Dense(128,activation='relu'))\n",
    "model.add(Dense(128,activation='relu'))\n",
    "model.add(Dense(128,activation='relu'))\n",
    "model.add(Dropout(rate = 0.05))\n",
    "model.add(Dense(128,activation='relu'))\n",
    "model.add(Dense(128,activation='relu'))\n",
    "model.add(Dense(128,activation='relu'))\n",
    "model.add(Dropout(rate = 0.05))\n",
    "model.add(Dense(64,activation='relu'))\n",
    "model.add(Dense(64,activation='relu'))\n",
    "model.add(Dense(64,activation='relu'))\n",
    "model.add(Dropout(rate = 0.05))\n",
    "model.add(Dense(32,activation='relu'))\n",
    "model.add(Dense(1,activation='linear'))"
   ]
  },
  {
   "cell_type": "code",
   "execution_count": 103,
   "metadata": {},
   "outputs": [
    {
     "name": "stdout",
     "output_type": "stream",
     "text": [
      "_________________________________________________________________\n",
      "Layer (type)                 Output Shape              Param #   \n",
      "=================================================================\n",
      "dense_1 (Dense)              (None, 128)               25728     \n",
      "_________________________________________________________________\n",
      "dense_2 (Dense)              (None, 128)               16512     \n",
      "_________________________________________________________________\n",
      "dense_3 (Dense)              (None, 128)               16512     \n",
      "_________________________________________________________________\n",
      "dense_4 (Dense)              (None, 128)               16512     \n",
      "_________________________________________________________________\n",
      "dropout_1 (Dropout)          (None, 128)               0         \n",
      "_________________________________________________________________\n",
      "dense_5 (Dense)              (None, 128)               16512     \n",
      "_________________________________________________________________\n",
      "dense_6 (Dense)              (None, 128)               16512     \n",
      "_________________________________________________________________\n",
      "dense_7 (Dense)              (None, 128)               16512     \n",
      "_________________________________________________________________\n",
      "dropout_2 (Dropout)          (None, 128)               0         \n",
      "_________________________________________________________________\n",
      "dense_8 (Dense)              (None, 128)               16512     \n",
      "_________________________________________________________________\n",
      "dense_9 (Dense)              (None, 128)               16512     \n",
      "_________________________________________________________________\n",
      "dense_10 (Dense)             (None, 128)               16512     \n",
      "_________________________________________________________________\n",
      "dropout_3 (Dropout)          (None, 128)               0         \n",
      "_________________________________________________________________\n",
      "dense_11 (Dense)             (None, 128)               16512     \n",
      "_________________________________________________________________\n",
      "dense_12 (Dense)             (None, 128)               16512     \n",
      "_________________________________________________________________\n",
      "dense_13 (Dense)             (None, 128)               16512     \n",
      "_________________________________________________________________\n",
      "dropout_4 (Dropout)          (None, 128)               0         \n",
      "_________________________________________________________________\n",
      "dense_14 (Dense)             (None, 128)               16512     \n",
      "_________________________________________________________________\n",
      "dense_15 (Dense)             (None, 128)               16512     \n",
      "_________________________________________________________________\n",
      "dense_16 (Dense)             (None, 128)               16512     \n",
      "_________________________________________________________________\n",
      "dropout_5 (Dropout)          (None, 128)               0         \n",
      "_________________________________________________________________\n",
      "dense_17 (Dense)             (None, 128)               16512     \n",
      "_________________________________________________________________\n",
      "dense_18 (Dense)             (None, 128)               16512     \n",
      "_________________________________________________________________\n",
      "dense_19 (Dense)             (None, 128)               16512     \n",
      "_________________________________________________________________\n",
      "dropout_6 (Dropout)          (None, 128)               0         \n",
      "_________________________________________________________________\n",
      "dense_20 (Dense)             (None, 128)               16512     \n",
      "_________________________________________________________________\n",
      "dense_21 (Dense)             (None, 128)               16512     \n",
      "_________________________________________________________________\n",
      "dense_22 (Dense)             (None, 128)               16512     \n",
      "_________________________________________________________________\n",
      "dropout_7 (Dropout)          (None, 128)               0         \n",
      "_________________________________________________________________\n",
      "dense_23 (Dense)             (None, 64)                8256      \n",
      "_________________________________________________________________\n",
      "dense_24 (Dense)             (None, 64)                4160      \n",
      "_________________________________________________________________\n",
      "dense_25 (Dense)             (None, 64)                4160      \n",
      "_________________________________________________________________\n",
      "dropout_8 (Dropout)          (None, 64)                0         \n",
      "_________________________________________________________________\n",
      "dense_26 (Dense)             (None, 32)                2080      \n",
      "_________________________________________________________________\n",
      "dense_27 (Dense)             (None, 1)                 33        \n",
      "=================================================================\n",
      "Total params: 391,169\n",
      "Trainable params: 391,169\n",
      "Non-trainable params: 0\n",
      "_________________________________________________________________\n"
     ]
    }
   ],
   "source": [
    "# Compile the network :\n",
    "model.compile(loss='mean_squared_error', optimizer='adam', metrics=['mean_squared_error'])\n",
    "model.summary()"
   ]
  },
  {
   "cell_type": "code",
   "execution_count": null,
   "metadata": {},
   "outputs": [],
   "source": [
    "model.fit(d2v_X_train, y_train, epochs=1000, batch_size=32, validation_split = 0.2,verbose = False)"
   ]
  },
  {
   "cell_type": "code",
   "execution_count": null,
   "metadata": {},
   "outputs": [],
   "source": [
    "predictions = model.predict(d2v_X_test)"
   ]
  },
  {
   "cell_type": "code",
   "execution_count": null,
   "metadata": {},
   "outputs": [],
   "source": [
    "print('The explained variance is', explained_variance_score(y_test, predictions))"
   ]
  },
  {
   "cell_type": "code",
   "execution_count": 106,
   "metadata": {},
   "outputs": [],
   "source": [
    "citation_data[\"predict_logcounts\"] = gdb_reg.predict(d2v_X)"
   ]
  },
  {
   "cell_type": "code",
   "execution_count": 107,
   "metadata": {},
   "outputs": [],
   "source": [
    "citation_data = citation_data[[\"logcounts\",\"predict_logcounts\"]]\n",
    "citation_data.to_csv(\"citation_data.csv\")"
   ]
  },
  {
   "cell_type": "code",
   "execution_count": 108,
   "metadata": {},
   "outputs": [
    {
     "data": {
      "text/html": [
       "<div>\n",
       "<style scoped>\n",
       "    .dataframe tbody tr th:only-of-type {\n",
       "        vertical-align: middle;\n",
       "    }\n",
       "\n",
       "    .dataframe tbody tr th {\n",
       "        vertical-align: top;\n",
       "    }\n",
       "\n",
       "    .dataframe thead th {\n",
       "        text-align: right;\n",
       "    }\n",
       "</style>\n",
       "<table border=\"1\" class=\"dataframe\">\n",
       "  <thead>\n",
       "    <tr style=\"text-align: right;\">\n",
       "      <th></th>\n",
       "      <th>logcounts</th>\n",
       "      <th>predict_logcounts</th>\n",
       "    </tr>\n",
       "  </thead>\n",
       "  <tbody>\n",
       "    <tr>\n",
       "      <th>0</th>\n",
       "      <td>0.693147</td>\n",
       "      <td>1.563644</td>\n",
       "    </tr>\n",
       "    <tr>\n",
       "      <th>1</th>\n",
       "      <td>0.000000</td>\n",
       "      <td>2.578287</td>\n",
       "    </tr>\n",
       "    <tr>\n",
       "      <th>2</th>\n",
       "      <td>2.708050</td>\n",
       "      <td>1.955208</td>\n",
       "    </tr>\n",
       "    <tr>\n",
       "      <th>14</th>\n",
       "      <td>0.000000</td>\n",
       "      <td>1.652018</td>\n",
       "    </tr>\n",
       "    <tr>\n",
       "      <th>16</th>\n",
       "      <td>0.693147</td>\n",
       "      <td>1.709437</td>\n",
       "    </tr>\n",
       "    <tr>\n",
       "      <th>23</th>\n",
       "      <td>0.000000</td>\n",
       "      <td>1.696154</td>\n",
       "    </tr>\n",
       "    <tr>\n",
       "      <th>25</th>\n",
       "      <td>0.000000</td>\n",
       "      <td>1.745818</td>\n",
       "    </tr>\n",
       "    <tr>\n",
       "      <th>29</th>\n",
       "      <td>0.000000</td>\n",
       "      <td>1.442154</td>\n",
       "    </tr>\n",
       "    <tr>\n",
       "      <th>34</th>\n",
       "      <td>0.000000</td>\n",
       "      <td>1.798953</td>\n",
       "    </tr>\n",
       "    <tr>\n",
       "      <th>35</th>\n",
       "      <td>0.000000</td>\n",
       "      <td>1.767056</td>\n",
       "    </tr>\n",
       "    <tr>\n",
       "      <th>41</th>\n",
       "      <td>0.000000</td>\n",
       "      <td>1.738392</td>\n",
       "    </tr>\n",
       "    <tr>\n",
       "      <th>42</th>\n",
       "      <td>0.000000</td>\n",
       "      <td>1.845560</td>\n",
       "    </tr>\n",
       "    <tr>\n",
       "      <th>44</th>\n",
       "      <td>2.197225</td>\n",
       "      <td>2.358403</td>\n",
       "    </tr>\n",
       "    <tr>\n",
       "      <th>46</th>\n",
       "      <td>2.197225</td>\n",
       "      <td>1.757115</td>\n",
       "    </tr>\n",
       "    <tr>\n",
       "      <th>48</th>\n",
       "      <td>2.708050</td>\n",
       "      <td>2.049141</td>\n",
       "    </tr>\n",
       "    <tr>\n",
       "      <th>49</th>\n",
       "      <td>1.386294</td>\n",
       "      <td>1.526421</td>\n",
       "    </tr>\n",
       "    <tr>\n",
       "      <th>51</th>\n",
       "      <td>0.000000</td>\n",
       "      <td>1.828642</td>\n",
       "    </tr>\n",
       "    <tr>\n",
       "      <th>52</th>\n",
       "      <td>0.000000</td>\n",
       "      <td>1.703920</td>\n",
       "    </tr>\n",
       "    <tr>\n",
       "      <th>53</th>\n",
       "      <td>1.791759</td>\n",
       "      <td>1.866506</td>\n",
       "    </tr>\n",
       "    <tr>\n",
       "      <th>57</th>\n",
       "      <td>2.944439</td>\n",
       "      <td>1.900681</td>\n",
       "    </tr>\n",
       "    <tr>\n",
       "      <th>60</th>\n",
       "      <td>2.302585</td>\n",
       "      <td>2.757769</td>\n",
       "    </tr>\n",
       "    <tr>\n",
       "      <th>61</th>\n",
       "      <td>3.332205</td>\n",
       "      <td>2.335253</td>\n",
       "    </tr>\n",
       "    <tr>\n",
       "      <th>66</th>\n",
       "      <td>1.791759</td>\n",
       "      <td>2.094406</td>\n",
       "    </tr>\n",
       "    <tr>\n",
       "      <th>67</th>\n",
       "      <td>1.386294</td>\n",
       "      <td>1.818593</td>\n",
       "    </tr>\n",
       "    <tr>\n",
       "      <th>69</th>\n",
       "      <td>3.737670</td>\n",
       "      <td>1.800198</td>\n",
       "    </tr>\n",
       "    <tr>\n",
       "      <th>70</th>\n",
       "      <td>1.386294</td>\n",
       "      <td>1.981652</td>\n",
       "    </tr>\n",
       "    <tr>\n",
       "      <th>71</th>\n",
       "      <td>1.609438</td>\n",
       "      <td>1.839938</td>\n",
       "    </tr>\n",
       "    <tr>\n",
       "      <th>72</th>\n",
       "      <td>3.178054</td>\n",
       "      <td>2.033758</td>\n",
       "    </tr>\n",
       "    <tr>\n",
       "      <th>76</th>\n",
       "      <td>1.609438</td>\n",
       "      <td>1.934704</td>\n",
       "    </tr>\n",
       "    <tr>\n",
       "      <th>83</th>\n",
       "      <td>2.708050</td>\n",
       "      <td>1.765938</td>\n",
       "    </tr>\n",
       "    <tr>\n",
       "      <th>...</th>\n",
       "      <td>...</td>\n",
       "      <td>...</td>\n",
       "    </tr>\n",
       "    <tr>\n",
       "      <th>387852</th>\n",
       "      <td>1.098612</td>\n",
       "      <td>1.535868</td>\n",
       "    </tr>\n",
       "    <tr>\n",
       "      <th>387853</th>\n",
       "      <td>2.772589</td>\n",
       "      <td>2.362838</td>\n",
       "    </tr>\n",
       "    <tr>\n",
       "      <th>387854</th>\n",
       "      <td>1.098612</td>\n",
       "      <td>1.921703</td>\n",
       "    </tr>\n",
       "    <tr>\n",
       "      <th>387855</th>\n",
       "      <td>1.609438</td>\n",
       "      <td>2.131200</td>\n",
       "    </tr>\n",
       "    <tr>\n",
       "      <th>387856</th>\n",
       "      <td>1.386294</td>\n",
       "      <td>1.328183</td>\n",
       "    </tr>\n",
       "    <tr>\n",
       "      <th>387858</th>\n",
       "      <td>0.693147</td>\n",
       "      <td>1.807700</td>\n",
       "    </tr>\n",
       "    <tr>\n",
       "      <th>387861</th>\n",
       "      <td>2.397895</td>\n",
       "      <td>2.077222</td>\n",
       "    </tr>\n",
       "    <tr>\n",
       "      <th>387862</th>\n",
       "      <td>2.397895</td>\n",
       "      <td>1.641079</td>\n",
       "    </tr>\n",
       "    <tr>\n",
       "      <th>387864</th>\n",
       "      <td>0.693147</td>\n",
       "      <td>2.017980</td>\n",
       "    </tr>\n",
       "    <tr>\n",
       "      <th>387865</th>\n",
       "      <td>2.197225</td>\n",
       "      <td>2.135204</td>\n",
       "    </tr>\n",
       "    <tr>\n",
       "      <th>387866</th>\n",
       "      <td>2.079442</td>\n",
       "      <td>1.785494</td>\n",
       "    </tr>\n",
       "    <tr>\n",
       "      <th>387870</th>\n",
       "      <td>1.386294</td>\n",
       "      <td>1.849354</td>\n",
       "    </tr>\n",
       "    <tr>\n",
       "      <th>387871</th>\n",
       "      <td>1.386294</td>\n",
       "      <td>1.583423</td>\n",
       "    </tr>\n",
       "    <tr>\n",
       "      <th>387872</th>\n",
       "      <td>4.709530</td>\n",
       "      <td>2.317840</td>\n",
       "    </tr>\n",
       "    <tr>\n",
       "      <th>387873</th>\n",
       "      <td>2.484907</td>\n",
       "      <td>2.088308</td>\n",
       "    </tr>\n",
       "    <tr>\n",
       "      <th>387877</th>\n",
       "      <td>0.000000</td>\n",
       "      <td>1.354669</td>\n",
       "    </tr>\n",
       "    <tr>\n",
       "      <th>387878</th>\n",
       "      <td>2.397895</td>\n",
       "      <td>2.164149</td>\n",
       "    </tr>\n",
       "    <tr>\n",
       "      <th>387880</th>\n",
       "      <td>1.386294</td>\n",
       "      <td>1.956507</td>\n",
       "    </tr>\n",
       "    <tr>\n",
       "      <th>387881</th>\n",
       "      <td>2.079442</td>\n",
       "      <td>1.906702</td>\n",
       "    </tr>\n",
       "    <tr>\n",
       "      <th>387882</th>\n",
       "      <td>3.433987</td>\n",
       "      <td>2.251018</td>\n",
       "    </tr>\n",
       "    <tr>\n",
       "      <th>387883</th>\n",
       "      <td>1.791759</td>\n",
       "      <td>1.692574</td>\n",
       "    </tr>\n",
       "    <tr>\n",
       "      <th>387885</th>\n",
       "      <td>2.397895</td>\n",
       "      <td>2.009551</td>\n",
       "    </tr>\n",
       "    <tr>\n",
       "      <th>387886</th>\n",
       "      <td>1.791759</td>\n",
       "      <td>1.887387</td>\n",
       "    </tr>\n",
       "    <tr>\n",
       "      <th>387887</th>\n",
       "      <td>0.693147</td>\n",
       "      <td>1.999119</td>\n",
       "    </tr>\n",
       "    <tr>\n",
       "      <th>387891</th>\n",
       "      <td>0.000000</td>\n",
       "      <td>1.433533</td>\n",
       "    </tr>\n",
       "    <tr>\n",
       "      <th>387892</th>\n",
       "      <td>1.098612</td>\n",
       "      <td>1.826345</td>\n",
       "    </tr>\n",
       "    <tr>\n",
       "      <th>387893</th>\n",
       "      <td>1.945910</td>\n",
       "      <td>1.694797</td>\n",
       "    </tr>\n",
       "    <tr>\n",
       "      <th>387894</th>\n",
       "      <td>1.386294</td>\n",
       "      <td>1.802389</td>\n",
       "    </tr>\n",
       "    <tr>\n",
       "      <th>387895</th>\n",
       "      <td>0.693147</td>\n",
       "      <td>2.158401</td>\n",
       "    </tr>\n",
       "    <tr>\n",
       "      <th>387896</th>\n",
       "      <td>2.944439</td>\n",
       "      <td>2.096278</td>\n",
       "    </tr>\n",
       "  </tbody>\n",
       "</table>\n",
       "<p>274271 rows × 2 columns</p>\n",
       "</div>"
      ],
      "text/plain": [
       "        logcounts  predict_logcounts\n",
       "0        0.693147           1.563644\n",
       "1        0.000000           2.578287\n",
       "2        2.708050           1.955208\n",
       "14       0.000000           1.652018\n",
       "16       0.693147           1.709437\n",
       "23       0.000000           1.696154\n",
       "25       0.000000           1.745818\n",
       "29       0.000000           1.442154\n",
       "34       0.000000           1.798953\n",
       "35       0.000000           1.767056\n",
       "41       0.000000           1.738392\n",
       "42       0.000000           1.845560\n",
       "44       2.197225           2.358403\n",
       "46       2.197225           1.757115\n",
       "48       2.708050           2.049141\n",
       "49       1.386294           1.526421\n",
       "51       0.000000           1.828642\n",
       "52       0.000000           1.703920\n",
       "53       1.791759           1.866506\n",
       "57       2.944439           1.900681\n",
       "60       2.302585           2.757769\n",
       "61       3.332205           2.335253\n",
       "66       1.791759           2.094406\n",
       "67       1.386294           1.818593\n",
       "69       3.737670           1.800198\n",
       "70       1.386294           1.981652\n",
       "71       1.609438           1.839938\n",
       "72       3.178054           2.033758\n",
       "76       1.609438           1.934704\n",
       "83       2.708050           1.765938\n",
       "...           ...                ...\n",
       "387852   1.098612           1.535868\n",
       "387853   2.772589           2.362838\n",
       "387854   1.098612           1.921703\n",
       "387855   1.609438           2.131200\n",
       "387856   1.386294           1.328183\n",
       "387858   0.693147           1.807700\n",
       "387861   2.397895           2.077222\n",
       "387862   2.397895           1.641079\n",
       "387864   0.693147           2.017980\n",
       "387865   2.197225           2.135204\n",
       "387866   2.079442           1.785494\n",
       "387870   1.386294           1.849354\n",
       "387871   1.386294           1.583423\n",
       "387872   4.709530           2.317840\n",
       "387873   2.484907           2.088308\n",
       "387877   0.000000           1.354669\n",
       "387878   2.397895           2.164149\n",
       "387880   1.386294           1.956507\n",
       "387881   2.079442           1.906702\n",
       "387882   3.433987           2.251018\n",
       "387883   1.791759           1.692574\n",
       "387885   2.397895           2.009551\n",
       "387886   1.791759           1.887387\n",
       "387887   0.693147           1.999119\n",
       "387891   0.000000           1.433533\n",
       "387892   1.098612           1.826345\n",
       "387893   1.945910           1.694797\n",
       "387894   1.386294           1.802389\n",
       "387895   0.693147           2.158401\n",
       "387896   2.944439           2.096278\n",
       "\n",
       "[274271 rows x 2 columns]"
      ]
     },
     "execution_count": 108,
     "metadata": {},
     "output_type": "execute_result"
    }
   ],
   "source": [
    "citation_data"
   ]
  },
  {
   "cell_type": "code",
   "execution_count": null,
   "metadata": {},
   "outputs": [],
   "source": []
  }
 ],
 "metadata": {
  "kernelspec": {
   "display_name": "Python 3",
   "language": "python",
   "name": "python3"
  },
  "language_info": {
   "codemirror_mode": {
    "name": "ipython",
    "version": 3
   },
   "file_extension": ".py",
   "mimetype": "text/x-python",
   "name": "python",
   "nbconvert_exporter": "python",
   "pygments_lexer": "ipython3",
   "version": "3.7.2"
  }
 },
 "nbformat": 4,
 "nbformat_minor": 2
}
